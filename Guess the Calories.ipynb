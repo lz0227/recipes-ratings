{
 "cells": [
  {
   "cell_type": "markdown",
   "metadata": {},
   "source": [
    "# Guess the Calories 🤤\n",
    "\n",
    "**Name(s)**: Luran Zhang, Yunpeng Zhao\n",
    "\n",
    "**Website Link**: https://elijahzyp.github.io/recipes_ratings_model/"
   ]
  },
  {
   "cell_type": "markdown",
   "metadata": {},
   "source": [
    "## Code"
   ]
  },
  {
   "cell_type": "code",
   "execution_count": 1,
   "metadata": {
    "ExecuteTime": {
     "end_time": "2019-10-31T23:36:28.652554Z",
     "start_time": "2019-10-31T23:36:27.180520Z"
    }
   },
   "outputs": [],
   "source": [
    "import pandas as pd\n",
    "import numpy as np\n",
    "import os\n",
    "\n",
    "import plotly.express as px\n",
    "pd.options.plotting.backend = 'plotly'\n",
    "\n",
    "from sklearn.linear_model import LinearRegression\n",
    "from sklearn.preprocessing import FunctionTransformer\n",
    "from sklearn.preprocessing import OneHotEncoder\n",
    "from sklearn.pipeline import Pipeline\n",
    "from sklearn.compose import ColumnTransformer\n",
    "from sklearn.tree import DecisionTreeClassifier\n",
    "from sklearn.tree import DecisionTreeRegressor\n",
    "from sklearn.ensemble import RandomForestClassifier\n",
    "from sklearn.model_selection import GridSearchCV\n",
    "from sklearn.model_selection import train_test_split\n",
    "from sklearn.preprocessing import StandardScaler\n",
    "from sklearn.preprocessing import Binarizer\n"
   ]
  },
  {
   "cell_type": "markdown",
   "metadata": {},
   "source": [
    "### Framing the Problem"
   ]
  },
  {
   "cell_type": "code",
   "execution_count": 3,
   "metadata": {
    "ExecuteTime": {
     "end_time": "2019-10-31T23:36:28.657068Z",
     "start_time": "2019-10-31T23:36:28.654650Z"
    },
    "scrolled": true
   },
   "outputs": [
    {
     "data": {
      "text/html": [
       "<div>\n",
       "<style scoped>\n",
       "    .dataframe tbody tr th:only-of-type {\n",
       "        vertical-align: middle;\n",
       "    }\n",
       "\n",
       "    .dataframe tbody tr th {\n",
       "        vertical-align: top;\n",
       "    }\n",
       "\n",
       "    .dataframe thead th {\n",
       "        text-align: right;\n",
       "    }\n",
       "</style>\n",
       "<table border=\"1\" class=\"dataframe\">\n",
       "  <thead>\n",
       "    <tr style=\"text-align: right;\">\n",
       "      <th></th>\n",
       "      <th>name</th>\n",
       "      <th>id</th>\n",
       "      <th>minutes</th>\n",
       "      <th>contributor_id</th>\n",
       "      <th>submitted</th>\n",
       "      <th>tags</th>\n",
       "      <th>nutrition</th>\n",
       "      <th>n_steps</th>\n",
       "      <th>steps</th>\n",
       "      <th>description</th>\n",
       "      <th>ingredients</th>\n",
       "      <th>n_ingredients</th>\n",
       "    </tr>\n",
       "  </thead>\n",
       "  <tbody>\n",
       "    <tr>\n",
       "      <th>0</th>\n",
       "      <td>1 brownies in the world    best ever</td>\n",
       "      <td>333281</td>\n",
       "      <td>40</td>\n",
       "      <td>985201</td>\n",
       "      <td>2008-10-27</td>\n",
       "      <td>['60-minutes-or-less', 'time-to-make', 'course...</td>\n",
       "      <td>[138.4, 10.0, 50.0, 3.0, 3.0, 19.0, 6.0]</td>\n",
       "      <td>10</td>\n",
       "      <td>['heat the oven to 350f and arrange the rack i...</td>\n",
       "      <td>these are the most; chocolatey, moist, rich, d...</td>\n",
       "      <td>['bittersweet chocolate', 'unsalted butter', '...</td>\n",
       "      <td>9</td>\n",
       "    </tr>\n",
       "    <tr>\n",
       "      <th>1</th>\n",
       "      <td>1 in canada chocolate chip cookies</td>\n",
       "      <td>453467</td>\n",
       "      <td>45</td>\n",
       "      <td>1848091</td>\n",
       "      <td>2011-04-11</td>\n",
       "      <td>['60-minutes-or-less', 'time-to-make', 'cuisin...</td>\n",
       "      <td>[595.1, 46.0, 211.0, 22.0, 13.0, 51.0, 26.0]</td>\n",
       "      <td>12</td>\n",
       "      <td>['pre-heat oven the 350 degrees f', 'in a mixi...</td>\n",
       "      <td>this is the recipe that we use at my school ca...</td>\n",
       "      <td>['white sugar', 'brown sugar', 'salt', 'margar...</td>\n",
       "      <td>11</td>\n",
       "    </tr>\n",
       "    <tr>\n",
       "      <th>2</th>\n",
       "      <td>412 broccoli casserole</td>\n",
       "      <td>306168</td>\n",
       "      <td>40</td>\n",
       "      <td>50969</td>\n",
       "      <td>2008-05-30</td>\n",
       "      <td>['60-minutes-or-less', 'time-to-make', 'course...</td>\n",
       "      <td>[194.8, 20.0, 6.0, 32.0, 22.0, 36.0, 3.0]</td>\n",
       "      <td>6</td>\n",
       "      <td>['preheat oven to 350 degrees', 'spray a 2 qua...</td>\n",
       "      <td>since there are already 411 recipes for brocco...</td>\n",
       "      <td>['frozen broccoli cuts', 'cream of chicken sou...</td>\n",
       "      <td>9</td>\n",
       "    </tr>\n",
       "    <tr>\n",
       "      <th>3</th>\n",
       "      <td>millionaire pound cake</td>\n",
       "      <td>286009</td>\n",
       "      <td>120</td>\n",
       "      <td>461724</td>\n",
       "      <td>2008-02-12</td>\n",
       "      <td>['time-to-make', 'course', 'cuisine', 'prepara...</td>\n",
       "      <td>[878.3, 63.0, 326.0, 13.0, 20.0, 123.0, 39.0]</td>\n",
       "      <td>7</td>\n",
       "      <td>['freheat the oven to 300 degrees', 'grease a ...</td>\n",
       "      <td>why a millionaire pound cake?  because it's su...</td>\n",
       "      <td>['butter', 'sugar', 'eggs', 'all-purpose flour...</td>\n",
       "      <td>7</td>\n",
       "    </tr>\n",
       "    <tr>\n",
       "      <th>4</th>\n",
       "      <td>2000 meatloaf</td>\n",
       "      <td>475785</td>\n",
       "      <td>90</td>\n",
       "      <td>2202916</td>\n",
       "      <td>2012-03-06</td>\n",
       "      <td>['time-to-make', 'course', 'main-ingredient', ...</td>\n",
       "      <td>[267.0, 30.0, 12.0, 12.0, 29.0, 48.0, 2.0]</td>\n",
       "      <td>17</td>\n",
       "      <td>['pan fry bacon , and set aside on a paper tow...</td>\n",
       "      <td>ready, set, cook! special edition contest entr...</td>\n",
       "      <td>['meatloaf mixture', 'unsmoked bacon', 'goat c...</td>\n",
       "      <td>13</td>\n",
       "    </tr>\n",
       "  </tbody>\n",
       "</table>\n",
       "</div>"
      ],
      "text/plain": [
       "                                   name      id  minutes  contributor_id  \\\n",
       "0  1 brownies in the world    best ever  333281       40          985201   \n",
       "1    1 in canada chocolate chip cookies  453467       45         1848091   \n",
       "2                412 broccoli casserole  306168       40           50969   \n",
       "3                millionaire pound cake  286009      120          461724   \n",
       "4                         2000 meatloaf  475785       90         2202916   \n",
       "\n",
       "    submitted                                               tags  \\\n",
       "0  2008-10-27  ['60-minutes-or-less', 'time-to-make', 'course...   \n",
       "1  2011-04-11  ['60-minutes-or-less', 'time-to-make', 'cuisin...   \n",
       "2  2008-05-30  ['60-minutes-or-less', 'time-to-make', 'course...   \n",
       "3  2008-02-12  ['time-to-make', 'course', 'cuisine', 'prepara...   \n",
       "4  2012-03-06  ['time-to-make', 'course', 'main-ingredient', ...   \n",
       "\n",
       "                                       nutrition  n_steps  \\\n",
       "0       [138.4, 10.0, 50.0, 3.0, 3.0, 19.0, 6.0]       10   \n",
       "1   [595.1, 46.0, 211.0, 22.0, 13.0, 51.0, 26.0]       12   \n",
       "2      [194.8, 20.0, 6.0, 32.0, 22.0, 36.0, 3.0]        6   \n",
       "3  [878.3, 63.0, 326.0, 13.0, 20.0, 123.0, 39.0]        7   \n",
       "4     [267.0, 30.0, 12.0, 12.0, 29.0, 48.0, 2.0]       17   \n",
       "\n",
       "                                               steps  \\\n",
       "0  ['heat the oven to 350f and arrange the rack i...   \n",
       "1  ['pre-heat oven the 350 degrees f', 'in a mixi...   \n",
       "2  ['preheat oven to 350 degrees', 'spray a 2 qua...   \n",
       "3  ['freheat the oven to 300 degrees', 'grease a ...   \n",
       "4  ['pan fry bacon , and set aside on a paper tow...   \n",
       "\n",
       "                                         description  \\\n",
       "0  these are the most; chocolatey, moist, rich, d...   \n",
       "1  this is the recipe that we use at my school ca...   \n",
       "2  since there are already 411 recipes for brocco...   \n",
       "3  why a millionaire pound cake?  because it's su...   \n",
       "4  ready, set, cook! special edition contest entr...   \n",
       "\n",
       "                                         ingredients  n_ingredients  \n",
       "0  ['bittersweet chocolate', 'unsalted butter', '...              9  \n",
       "1  ['white sugar', 'brown sugar', 'salt', 'margar...             11  \n",
       "2  ['frozen broccoli cuts', 'cream of chicken sou...              9  \n",
       "3  ['butter', 'sugar', 'eggs', 'all-purpose flour...              7  \n",
       "4  ['meatloaf mixture', 'unsmoked bacon', 'goat c...             13  "
      ]
     },
     "execution_count": 3,
     "metadata": {},
     "output_type": "execute_result"
    }
   ],
   "source": [
    "# load in the raw data for recipes and ratings (from project 3)\n",
    "raw_recipes = pd.read_csv(os.path.join('data', 'RAW_recipes.csv'))\n",
    "raw_interactions = pd.read_csv(os.path.join('data', 'RAW_interactions.csv'))\n",
    "raw_recipes.head()"
   ]
  },
  {
   "cell_type": "code",
   "execution_count": 4,
   "metadata": {},
   "outputs": [],
   "source": [
    "# merge recipes dataset and ratings dataset (from project 3)\n",
    "raw_merged = raw_recipes.merge(raw_interactions, left_on='id', right_on='recipe_id', how='left')"
   ]
  },
  {
   "cell_type": "code",
   "execution_count": 5,
   "metadata": {},
   "outputs": [],
   "source": [
    "# fill 0 with np.nan (from project 3)\n",
    "merged_fillzero = raw_merged.copy()\n",
    "merged_fillzero['rating'] = raw_merged['rating'].replace(0, np.nan)"
   ]
  },
  {
   "cell_type": "code",
   "execution_count": 6,
   "metadata": {},
   "outputs": [],
   "source": [
    "# calculate the average rating per recipe (from project 3)\n",
    "avg_rating = merged_fillzero.groupby(\"id\")[[\"rating\"]].mean()\n",
    "avg_rating = avg_rating.rename(columns = {\"rating\":\"avg_rating\"})"
   ]
  },
  {
   "cell_type": "code",
   "execution_count": 7,
   "metadata": {},
   "outputs": [
    {
     "data": {
      "text/html": [
       "<div>\n",
       "<style scoped>\n",
       "    .dataframe tbody tr th:only-of-type {\n",
       "        vertical-align: middle;\n",
       "    }\n",
       "\n",
       "    .dataframe tbody tr th {\n",
       "        vertical-align: top;\n",
       "    }\n",
       "\n",
       "    .dataframe thead th {\n",
       "        text-align: right;\n",
       "    }\n",
       "</style>\n",
       "<table border=\"1\" class=\"dataframe\">\n",
       "  <thead>\n",
       "    <tr style=\"text-align: right;\">\n",
       "      <th></th>\n",
       "      <th>name</th>\n",
       "      <th>id</th>\n",
       "      <th>minutes</th>\n",
       "      <th>contributor_id</th>\n",
       "      <th>submitted</th>\n",
       "      <th>tags</th>\n",
       "      <th>nutrition</th>\n",
       "      <th>n_steps</th>\n",
       "      <th>steps</th>\n",
       "      <th>description</th>\n",
       "      <th>ingredients</th>\n",
       "      <th>n_ingredients</th>\n",
       "      <th>avg_rating</th>\n",
       "    </tr>\n",
       "  </thead>\n",
       "  <tbody>\n",
       "    <tr>\n",
       "      <th>0</th>\n",
       "      <td>1 brownies in the world    best ever</td>\n",
       "      <td>333281</td>\n",
       "      <td>40</td>\n",
       "      <td>985201</td>\n",
       "      <td>2008-10-27</td>\n",
       "      <td>['60-minutes-or-less', 'time-to-make', 'course...</td>\n",
       "      <td>[138.4, 10.0, 50.0, 3.0, 3.0, 19.0, 6.0]</td>\n",
       "      <td>10</td>\n",
       "      <td>['heat the oven to 350f and arrange the rack i...</td>\n",
       "      <td>these are the most; chocolatey, moist, rich, d...</td>\n",
       "      <td>['bittersweet chocolate', 'unsalted butter', '...</td>\n",
       "      <td>9</td>\n",
       "      <td>4.0</td>\n",
       "    </tr>\n",
       "    <tr>\n",
       "      <th>1</th>\n",
       "      <td>1 in canada chocolate chip cookies</td>\n",
       "      <td>453467</td>\n",
       "      <td>45</td>\n",
       "      <td>1848091</td>\n",
       "      <td>2011-04-11</td>\n",
       "      <td>['60-minutes-or-less', 'time-to-make', 'cuisin...</td>\n",
       "      <td>[595.1, 46.0, 211.0, 22.0, 13.0, 51.0, 26.0]</td>\n",
       "      <td>12</td>\n",
       "      <td>['pre-heat oven the 350 degrees f', 'in a mixi...</td>\n",
       "      <td>this is the recipe that we use at my school ca...</td>\n",
       "      <td>['white sugar', 'brown sugar', 'salt', 'margar...</td>\n",
       "      <td>11</td>\n",
       "      <td>5.0</td>\n",
       "    </tr>\n",
       "    <tr>\n",
       "      <th>2</th>\n",
       "      <td>412 broccoli casserole</td>\n",
       "      <td>306168</td>\n",
       "      <td>40</td>\n",
       "      <td>50969</td>\n",
       "      <td>2008-05-30</td>\n",
       "      <td>['60-minutes-or-less', 'time-to-make', 'course...</td>\n",
       "      <td>[194.8, 20.0, 6.0, 32.0, 22.0, 36.0, 3.0]</td>\n",
       "      <td>6</td>\n",
       "      <td>['preheat oven to 350 degrees', 'spray a 2 qua...</td>\n",
       "      <td>since there are already 411 recipes for brocco...</td>\n",
       "      <td>['frozen broccoli cuts', 'cream of chicken sou...</td>\n",
       "      <td>9</td>\n",
       "      <td>5.0</td>\n",
       "    </tr>\n",
       "    <tr>\n",
       "      <th>3</th>\n",
       "      <td>millionaire pound cake</td>\n",
       "      <td>286009</td>\n",
       "      <td>120</td>\n",
       "      <td>461724</td>\n",
       "      <td>2008-02-12</td>\n",
       "      <td>['time-to-make', 'course', 'cuisine', 'prepara...</td>\n",
       "      <td>[878.3, 63.0, 326.0, 13.0, 20.0, 123.0, 39.0]</td>\n",
       "      <td>7</td>\n",
       "      <td>['freheat the oven to 300 degrees', 'grease a ...</td>\n",
       "      <td>why a millionaire pound cake?  because it's su...</td>\n",
       "      <td>['butter', 'sugar', 'eggs', 'all-purpose flour...</td>\n",
       "      <td>7</td>\n",
       "      <td>5.0</td>\n",
       "    </tr>\n",
       "    <tr>\n",
       "      <th>4</th>\n",
       "      <td>2000 meatloaf</td>\n",
       "      <td>475785</td>\n",
       "      <td>90</td>\n",
       "      <td>2202916</td>\n",
       "      <td>2012-03-06</td>\n",
       "      <td>['time-to-make', 'course', 'main-ingredient', ...</td>\n",
       "      <td>[267.0, 30.0, 12.0, 12.0, 29.0, 48.0, 2.0]</td>\n",
       "      <td>17</td>\n",
       "      <td>['pan fry bacon , and set aside on a paper tow...</td>\n",
       "      <td>ready, set, cook! special edition contest entr...</td>\n",
       "      <td>['meatloaf mixture', 'unsmoked bacon', 'goat c...</td>\n",
       "      <td>13</td>\n",
       "      <td>5.0</td>\n",
       "    </tr>\n",
       "  </tbody>\n",
       "</table>\n",
       "</div>"
      ],
      "text/plain": [
       "                                   name      id  minutes  contributor_id  \\\n",
       "0  1 brownies in the world    best ever  333281       40          985201   \n",
       "1    1 in canada chocolate chip cookies  453467       45         1848091   \n",
       "2                412 broccoli casserole  306168       40           50969   \n",
       "3                millionaire pound cake  286009      120          461724   \n",
       "4                         2000 meatloaf  475785       90         2202916   \n",
       "\n",
       "    submitted                                               tags  \\\n",
       "0  2008-10-27  ['60-minutes-or-less', 'time-to-make', 'course...   \n",
       "1  2011-04-11  ['60-minutes-or-less', 'time-to-make', 'cuisin...   \n",
       "2  2008-05-30  ['60-minutes-or-less', 'time-to-make', 'course...   \n",
       "3  2008-02-12  ['time-to-make', 'course', 'cuisine', 'prepara...   \n",
       "4  2012-03-06  ['time-to-make', 'course', 'main-ingredient', ...   \n",
       "\n",
       "                                       nutrition  n_steps  \\\n",
       "0       [138.4, 10.0, 50.0, 3.0, 3.0, 19.0, 6.0]       10   \n",
       "1   [595.1, 46.0, 211.0, 22.0, 13.0, 51.0, 26.0]       12   \n",
       "2      [194.8, 20.0, 6.0, 32.0, 22.0, 36.0, 3.0]        6   \n",
       "3  [878.3, 63.0, 326.0, 13.0, 20.0, 123.0, 39.0]        7   \n",
       "4     [267.0, 30.0, 12.0, 12.0, 29.0, 48.0, 2.0]       17   \n",
       "\n",
       "                                               steps  \\\n",
       "0  ['heat the oven to 350f and arrange the rack i...   \n",
       "1  ['pre-heat oven the 350 degrees f', 'in a mixi...   \n",
       "2  ['preheat oven to 350 degrees', 'spray a 2 qua...   \n",
       "3  ['freheat the oven to 300 degrees', 'grease a ...   \n",
       "4  ['pan fry bacon , and set aside on a paper tow...   \n",
       "\n",
       "                                         description  \\\n",
       "0  these are the most; chocolatey, moist, rich, d...   \n",
       "1  this is the recipe that we use at my school ca...   \n",
       "2  since there are already 411 recipes for brocco...   \n",
       "3  why a millionaire pound cake?  because it's su...   \n",
       "4  ready, set, cook! special edition contest entr...   \n",
       "\n",
       "                                         ingredients  n_ingredients  \\\n",
       "0  ['bittersweet chocolate', 'unsalted butter', '...              9   \n",
       "1  ['white sugar', 'brown sugar', 'salt', 'margar...             11   \n",
       "2  ['frozen broccoli cuts', 'cream of chicken sou...              9   \n",
       "3  ['butter', 'sugar', 'eggs', 'all-purpose flour...              7   \n",
       "4  ['meatloaf mixture', 'unsmoked bacon', 'goat c...             13   \n",
       "\n",
       "   avg_rating  \n",
       "0         4.0  \n",
       "1         5.0  \n",
       "2         5.0  \n",
       "3         5.0  \n",
       "4         5.0  "
      ]
     },
     "execution_count": 7,
     "metadata": {},
     "output_type": "execute_result"
    }
   ],
   "source": [
    "# adding the avergae rating series back to the recipes dataset (from project 3)\n",
    "recipes = raw_recipes.merge(avg_rating, on = \"id\")\n",
    "recipes.head()"
   ]
  },
  {
   "cell_type": "code",
   "execution_count": 8,
   "metadata": {},
   "outputs": [],
   "source": [
    "# first we expanded the nutrition columns into its corsponsing categories. (from project 3)\n",
    "cleaned_recipes = recipes.copy()\n",
    "cleaned_recipes[[\"calories (#)\", \n",
    "          \"total fat (PDV)\", \n",
    "          \"sugar (PDV)\", \n",
    "          \"sodium (PDV)\", \n",
    "          \"protein (PDV)\", \n",
    "          \"saturated fat (PDV)\", \n",
    "          \"carbohydrates (PDV)\"]] = pd.DataFrame(recipes[\"nutrition\"]\\\n",
    "                                                 .str.strip(\"[]\").str.split(\", \").to_list(), \n",
    "                         columns = [\"calories (#)\", \"total fat (PDV)\", \"sugar (PDV)\", \n",
    "                                    \"sodium (PDV)\", \"protein (PDV)\", \n",
    "                                    \"saturated fat (PDV)\", \"carbohydrates (PDV)\"]).astype(float)\n",
    "\n",
    "cleaned_recipes = cleaned_recipes.drop(columns = \"nutrition\")"
   ]
  },
  {
   "cell_type": "code",
   "execution_count": 9,
   "metadata": {},
   "outputs": [],
   "source": [
    "# add a boolean column that determines whether a recipe is healthy or not (from project 3)\n",
    "avg = cleaned_recipes.loc[:, [\"protein (PDV)\", \"carbohydrates (PDV)\"]].mean()\n",
    "healthy_rating = cleaned_recipes.loc[:, [\"protein (PDV)\", \"carbohydrates (PDV)\"]] <= avg\n",
    "healthy_rating[\"protein (PDV)\"] = healthy_rating[\"protein (PDV)\"] == False\n",
    "cleaned_recipes['healthy'] = healthy_rating.sum(axis=1) == 2"
   ]
  },
  {
   "cell_type": "code",
   "execution_count": 10,
   "metadata": {},
   "outputs": [],
   "source": [
    "# Here we defined a function to help us determine if a person is happy after eating the \n",
    "# dish they cooked using each recipe. (from project 3)\n",
    "def happiness_sort(row):\n",
    "    if (row[\"avg_rating\"] >= 1) & (row[\"avg_rating\"] < 3):\n",
    "        return \"sad\"\n",
    "    if (row[\"avg_rating\"] >= 3) & (row[\"avg_rating\"] <= 5):\n",
    "        return \"happy\"\n",
    "    return np.nan\n",
    "\n",
    "cleaned_recipes[\"happiness\"] = cleaned_recipes.apply (lambda row: happiness_sort(row), axis=1)"
   ]
  },
  {
   "cell_type": "code",
   "execution_count": 11,
   "metadata": {},
   "outputs": [],
   "source": [
    "# change the type of the submitted column to pandas datetime type. (from project 3)\n",
    "cleaned_recipes[\"submitted\"] = pd.to_datetime(cleaned_recipes[\"submitted\"], format='%Y-%m-%d')\n",
    "cleaned_recipes[\"published_year\"] = cleaned_recipes[\"submitted\"].dt.year"
   ]
  },
  {
   "cell_type": "code",
   "execution_count": 12,
   "metadata": {},
   "outputs": [],
   "source": [
    "# set cooking time outliers and 0 to np.nan (from project 3)\n",
    "cleaned_recipes[\"minutes\"] = cleaned_recipes[\"minutes\"].where(cleaned_recipes[\"minutes\"] <= 1440)\n",
    "cleaned_recipes[\"minutes\"] = cleaned_recipes[\"minutes\"].replace(0, np.nan)"
   ]
  },
  {
   "cell_type": "code",
   "execution_count": 13,
   "metadata": {
    "scrolled": false
   },
   "outputs": [
    {
     "data": {
      "text/html": [
       "<div>\n",
       "<style scoped>\n",
       "    .dataframe tbody tr th:only-of-type {\n",
       "        vertical-align: middle;\n",
       "    }\n",
       "\n",
       "    .dataframe tbody tr th {\n",
       "        vertical-align: top;\n",
       "    }\n",
       "\n",
       "    .dataframe thead th {\n",
       "        text-align: right;\n",
       "    }\n",
       "</style>\n",
       "<table border=\"1\" class=\"dataframe\">\n",
       "  <thead>\n",
       "    <tr style=\"text-align: right;\">\n",
       "      <th></th>\n",
       "      <th>name</th>\n",
       "      <th>id</th>\n",
       "      <th>minutes</th>\n",
       "      <th>contributor_id</th>\n",
       "      <th>submitted</th>\n",
       "      <th>tags</th>\n",
       "      <th>n_steps</th>\n",
       "      <th>steps</th>\n",
       "      <th>description</th>\n",
       "      <th>ingredients</th>\n",
       "      <th>...</th>\n",
       "      <th>calories (#)</th>\n",
       "      <th>total fat (PDV)</th>\n",
       "      <th>sugar (PDV)</th>\n",
       "      <th>sodium (PDV)</th>\n",
       "      <th>protein (PDV)</th>\n",
       "      <th>saturated fat (PDV)</th>\n",
       "      <th>carbohydrates (PDV)</th>\n",
       "      <th>healthy</th>\n",
       "      <th>happiness</th>\n",
       "      <th>published_year</th>\n",
       "    </tr>\n",
       "  </thead>\n",
       "  <tbody>\n",
       "    <tr>\n",
       "      <th>0</th>\n",
       "      <td>1 brownies in the world    best ever</td>\n",
       "      <td>333281</td>\n",
       "      <td>40.0</td>\n",
       "      <td>985201</td>\n",
       "      <td>2008-10-27</td>\n",
       "      <td>['60-minutes-or-less', 'time-to-make', 'course...</td>\n",
       "      <td>10</td>\n",
       "      <td>['heat the oven to 350f and arrange the rack i...</td>\n",
       "      <td>these are the most; chocolatey, moist, rich, d...</td>\n",
       "      <td>['bittersweet chocolate', 'unsalted butter', '...</td>\n",
       "      <td>...</td>\n",
       "      <td>138.4</td>\n",
       "      <td>10.0</td>\n",
       "      <td>50.0</td>\n",
       "      <td>3.0</td>\n",
       "      <td>3.0</td>\n",
       "      <td>19.0</td>\n",
       "      <td>6.0</td>\n",
       "      <td>False</td>\n",
       "      <td>happy</td>\n",
       "      <td>2008</td>\n",
       "    </tr>\n",
       "    <tr>\n",
       "      <th>1</th>\n",
       "      <td>1 in canada chocolate chip cookies</td>\n",
       "      <td>453467</td>\n",
       "      <td>45.0</td>\n",
       "      <td>1848091</td>\n",
       "      <td>2011-04-11</td>\n",
       "      <td>['60-minutes-or-less', 'time-to-make', 'cuisin...</td>\n",
       "      <td>12</td>\n",
       "      <td>['pre-heat oven the 350 degrees f', 'in a mixi...</td>\n",
       "      <td>this is the recipe that we use at my school ca...</td>\n",
       "      <td>['white sugar', 'brown sugar', 'salt', 'margar...</td>\n",
       "      <td>...</td>\n",
       "      <td>595.1</td>\n",
       "      <td>46.0</td>\n",
       "      <td>211.0</td>\n",
       "      <td>22.0</td>\n",
       "      <td>13.0</td>\n",
       "      <td>51.0</td>\n",
       "      <td>26.0</td>\n",
       "      <td>False</td>\n",
       "      <td>happy</td>\n",
       "      <td>2011</td>\n",
       "    </tr>\n",
       "    <tr>\n",
       "      <th>2</th>\n",
       "      <td>412 broccoli casserole</td>\n",
       "      <td>306168</td>\n",
       "      <td>40.0</td>\n",
       "      <td>50969</td>\n",
       "      <td>2008-05-30</td>\n",
       "      <td>['60-minutes-or-less', 'time-to-make', 'course...</td>\n",
       "      <td>6</td>\n",
       "      <td>['preheat oven to 350 degrees', 'spray a 2 qua...</td>\n",
       "      <td>since there are already 411 recipes for brocco...</td>\n",
       "      <td>['frozen broccoli cuts', 'cream of chicken sou...</td>\n",
       "      <td>...</td>\n",
       "      <td>194.8</td>\n",
       "      <td>20.0</td>\n",
       "      <td>6.0</td>\n",
       "      <td>32.0</td>\n",
       "      <td>22.0</td>\n",
       "      <td>36.0</td>\n",
       "      <td>3.0</td>\n",
       "      <td>False</td>\n",
       "      <td>happy</td>\n",
       "      <td>2008</td>\n",
       "    </tr>\n",
       "    <tr>\n",
       "      <th>3</th>\n",
       "      <td>millionaire pound cake</td>\n",
       "      <td>286009</td>\n",
       "      <td>120.0</td>\n",
       "      <td>461724</td>\n",
       "      <td>2008-02-12</td>\n",
       "      <td>['time-to-make', 'course', 'cuisine', 'prepara...</td>\n",
       "      <td>7</td>\n",
       "      <td>['freheat the oven to 300 degrees', 'grease a ...</td>\n",
       "      <td>why a millionaire pound cake?  because it's su...</td>\n",
       "      <td>['butter', 'sugar', 'eggs', 'all-purpose flour...</td>\n",
       "      <td>...</td>\n",
       "      <td>878.3</td>\n",
       "      <td>63.0</td>\n",
       "      <td>326.0</td>\n",
       "      <td>13.0</td>\n",
       "      <td>20.0</td>\n",
       "      <td>123.0</td>\n",
       "      <td>39.0</td>\n",
       "      <td>False</td>\n",
       "      <td>happy</td>\n",
       "      <td>2008</td>\n",
       "    </tr>\n",
       "    <tr>\n",
       "      <th>4</th>\n",
       "      <td>2000 meatloaf</td>\n",
       "      <td>475785</td>\n",
       "      <td>90.0</td>\n",
       "      <td>2202916</td>\n",
       "      <td>2012-03-06</td>\n",
       "      <td>['time-to-make', 'course', 'main-ingredient', ...</td>\n",
       "      <td>17</td>\n",
       "      <td>['pan fry bacon , and set aside on a paper tow...</td>\n",
       "      <td>ready, set, cook! special edition contest entr...</td>\n",
       "      <td>['meatloaf mixture', 'unsmoked bacon', 'goat c...</td>\n",
       "      <td>...</td>\n",
       "      <td>267.0</td>\n",
       "      <td>30.0</td>\n",
       "      <td>12.0</td>\n",
       "      <td>12.0</td>\n",
       "      <td>29.0</td>\n",
       "      <td>48.0</td>\n",
       "      <td>2.0</td>\n",
       "      <td>False</td>\n",
       "      <td>happy</td>\n",
       "      <td>2012</td>\n",
       "    </tr>\n",
       "  </tbody>\n",
       "</table>\n",
       "<p>5 rows × 22 columns</p>\n",
       "</div>"
      ],
      "text/plain": [
       "                                   name      id  minutes  contributor_id  \\\n",
       "0  1 brownies in the world    best ever  333281     40.0          985201   \n",
       "1    1 in canada chocolate chip cookies  453467     45.0         1848091   \n",
       "2                412 broccoli casserole  306168     40.0           50969   \n",
       "3                millionaire pound cake  286009    120.0          461724   \n",
       "4                         2000 meatloaf  475785     90.0         2202916   \n",
       "\n",
       "   submitted                                               tags  n_steps  \\\n",
       "0 2008-10-27  ['60-minutes-or-less', 'time-to-make', 'course...       10   \n",
       "1 2011-04-11  ['60-minutes-or-less', 'time-to-make', 'cuisin...       12   \n",
       "2 2008-05-30  ['60-minutes-or-less', 'time-to-make', 'course...        6   \n",
       "3 2008-02-12  ['time-to-make', 'course', 'cuisine', 'prepara...        7   \n",
       "4 2012-03-06  ['time-to-make', 'course', 'main-ingredient', ...       17   \n",
       "\n",
       "                                               steps  \\\n",
       "0  ['heat the oven to 350f and arrange the rack i...   \n",
       "1  ['pre-heat oven the 350 degrees f', 'in a mixi...   \n",
       "2  ['preheat oven to 350 degrees', 'spray a 2 qua...   \n",
       "3  ['freheat the oven to 300 degrees', 'grease a ...   \n",
       "4  ['pan fry bacon , and set aside on a paper tow...   \n",
       "\n",
       "                                         description  \\\n",
       "0  these are the most; chocolatey, moist, rich, d...   \n",
       "1  this is the recipe that we use at my school ca...   \n",
       "2  since there are already 411 recipes for brocco...   \n",
       "3  why a millionaire pound cake?  because it's su...   \n",
       "4  ready, set, cook! special edition contest entr...   \n",
       "\n",
       "                                         ingredients  ...  calories (#)  \\\n",
       "0  ['bittersweet chocolate', 'unsalted butter', '...  ...         138.4   \n",
       "1  ['white sugar', 'brown sugar', 'salt', 'margar...  ...         595.1   \n",
       "2  ['frozen broccoli cuts', 'cream of chicken sou...  ...         194.8   \n",
       "3  ['butter', 'sugar', 'eggs', 'all-purpose flour...  ...         878.3   \n",
       "4  ['meatloaf mixture', 'unsmoked bacon', 'goat c...  ...         267.0   \n",
       "\n",
       "   total fat (PDV)  sugar (PDV)  sodium (PDV)  protein (PDV)  \\\n",
       "0             10.0         50.0           3.0            3.0   \n",
       "1             46.0        211.0          22.0           13.0   \n",
       "2             20.0          6.0          32.0           22.0   \n",
       "3             63.0        326.0          13.0           20.0   \n",
       "4             30.0         12.0          12.0           29.0   \n",
       "\n",
       "   saturated fat (PDV)  carbohydrates (PDV)  healthy  happiness  \\\n",
       "0                 19.0                  6.0    False      happy   \n",
       "1                 51.0                 26.0    False      happy   \n",
       "2                 36.0                  3.0    False      happy   \n",
       "3                123.0                 39.0    False      happy   \n",
       "4                 48.0                  2.0    False      happy   \n",
       "\n",
       "   published_year  \n",
       "0            2008  \n",
       "1            2011  \n",
       "2            2008  \n",
       "3            2008  \n",
       "4            2012  \n",
       "\n",
       "[5 rows x 22 columns]"
      ]
     },
     "execution_count": 13,
     "metadata": {},
     "output_type": "execute_result"
    }
   ],
   "source": [
    "# here we want to drop any row with np.nan because we can not use them to construct our model\n",
    "cleaned_recipes = cleaned_recipes.dropna()\n",
    "cleaned_recipes.head()"
   ]
  },
  {
   "cell_type": "markdown",
   "metadata": {},
   "source": [
    "##### Prediction Problem\n",
    "For our project, we hope to predict the **calories** for each recipe using feature engineering and modeling"
   ]
  },
  {
   "cell_type": "markdown",
   "metadata": {},
   "source": [
    "### Baseline Model"
   ]
  },
  {
   "cell_type": "code",
   "execution_count": 14,
   "metadata": {},
   "outputs": [],
   "source": [
    "# in order to test our model on unseen data, we will split our data into training and test data\n",
    "X_train, X_test, y_train, y_test = train_test_split(cleaned_recipes, \n",
    "                                                    cleaned_recipes['calories (#)']\n",
    "                                                   )"
   ]
  },
  {
   "cell_type": "code",
   "execution_count": 15,
   "metadata": {},
   "outputs": [
    {
     "data": {
      "text/plain": [
       "0.8119909202924103"
      ]
     },
     "execution_count": 15,
     "metadata": {},
     "output_type": "execute_result"
    }
   ],
   "source": [
    "# Our base model includes two features, the year the recipe was published and the amount of fat \n",
    "# in the recipe.\n",
    "preproc = ColumnTransformer(\n",
    "        transformers = [\n",
    "            ('year', OneHotEncoder(drop = \"first\"), ['published_year'])\n",
    "            ],\n",
    "        remainder='passthrough'\n",
    "    )\n",
    "pl = Pipeline([\n",
    "        (\"preprocessor\", preproc),\n",
    "        ('decision-tree', DecisionTreeRegressor(max_depth = 5))\n",
    "    ])\n",
    "\n",
    "pl.fit(X_train[[\"published_year\", 'total fat (PDV)']], y_train)\n",
    "pl.score(X_train[[\"published_year\", 'total fat (PDV)']], y_train)"
   ]
  },
  {
   "cell_type": "code",
   "execution_count": 16,
   "metadata": {},
   "outputs": [
    {
     "data": {
      "text/plain": [
       "0.7252110171807438"
      ]
     },
     "execution_count": 16,
     "metadata": {},
     "output_type": "execute_result"
    }
   ],
   "source": [
    "#run base model on test data\n",
    "pl.score(X_test[[\"published_year\", 'total fat (PDV)']], y_test)"
   ]
  },
  {
   "cell_type": "markdown",
   "metadata": {},
   "source": [
    "### Final Model"
   ]
  },
  {
   "cell_type": "code",
   "execution_count": 17,
   "metadata": {},
   "outputs": [
    {
     "data": {
      "text/plain": [
       "0.8791757218512102"
      ]
     },
     "execution_count": 17,
     "metadata": {},
     "output_type": "execute_result"
    }
   ],
   "source": [
    "# Our final model includes five features, which we expect to increase the score of our model on both \n",
    "# training and test data\n",
    "preproc_final1 = ColumnTransformer(\n",
    "        transformers = [\n",
    "            ('year', OneHotEncoder(drop = \"first\"), ['published_year']),\n",
    "            ('health', OneHotEncoder(drop = \"first\"), ['healthy'])],\n",
    "        remainder='passthrough'\n",
    "    )\n",
    "pl_final1 = Pipeline([\n",
    "        (\"preprocessor\", preproc_final1),\n",
    "        ('decision-tree', DecisionTreeRegressor(max_depth = 5))\n",
    "    ])\n",
    "\n",
    "pl_final1.fit(X_train[[\"published_year\", 'total fat (PDV)', 'n_ingredients', 'healthy'\n",
    "                       , 'sugar (PDV)']], y_train)\n",
    "pl_final1.score(X_train[[\"published_year\", 'total fat (PDV)', 'n_ingredients', 'healthy'\n",
    "                         , 'sugar (PDV)']], y_train)"
   ]
  },
  {
   "cell_type": "code",
   "execution_count": 18,
   "metadata": {
    "scrolled": true
   },
   "outputs": [
    {
     "data": {
      "text/plain": [
       "0.7385341055362334"
      ]
     },
     "execution_count": 18,
     "metadata": {},
     "output_type": "execute_result"
    }
   ],
   "source": [
    "#run final model on test data\n",
    "pl_final1.score(X_test[[\"published_year\", 'total fat (PDV)', 'n_ingredients', 'healthy'\n",
    "                        , 'sugar (PDV)']], y_test)"
   ]
  },
  {
   "cell_type": "markdown",
   "metadata": {},
   "source": [
    "We plan to tune the hyperparameter of the DecisionTreeRegressor, which is max_depth. We want to tune this using grids search because we want to find the best parameter that will optimize our model on the training data while having a similar score for unseen data. We don't want our model to be overly complicated."
   ]
  },
  {
   "cell_type": "code",
   "execution_count": 19,
   "metadata": {},
   "outputs": [
    {
     "data": {
      "text/plain": [
       "{'decision-tree__max_depth': np.int64(9)}"
      ]
     },
     "execution_count": 19,
     "metadata": {},
     "output_type": "execute_result"
    }
   ],
   "source": [
    "# fine tuning hyperparameter for DecisionTreeRegressor to find the best max_depth.\n",
    "hyperparameters = {\n",
    "    'decision-tree__max_depth': np.arange(1, 30)\n",
    "}\n",
    "grids = GridSearchCV(pl_final1, hyperparameters, cv = 5)\n",
    "grids.fit(X_train[[\"published_year\", 'total fat (PDV)', 'n_ingredients', 'healthy'\n",
    "                   , 'sugar (PDV)']], y_train)\n",
    "grids.best_params_"
   ]
  },
  {
   "cell_type": "code",
   "execution_count": 20,
   "metadata": {},
   "outputs": [
    {
     "data": {
      "text/plain": [
       "0.9226275117541688"
      ]
     },
     "execution_count": 20,
     "metadata": {},
     "output_type": "execute_result"
    }
   ],
   "source": [
    "# final version of our final model that includes the best parameter for max_depth.\n",
    "preproc_final2 = ColumnTransformer(\n",
    "        transformers = [\n",
    "            ('year', OneHotEncoder(drop = \"first\"), ['published_year']),\n",
    "            ('ingredients', Binarizer(), ['n_ingredients'])],\n",
    "        remainder='passthrough'\n",
    "    )\n",
    "pl_final2 = Pipeline([\n",
    "        (\"preprocessor\", preproc_final2),\n",
    "        ('decision-tree', DecisionTreeRegressor(max_depth = 8))\n",
    "    ])\n",
    "\n",
    "pl_final2.fit(X_train[[\"published_year\", 'total fat (PDV)', 'n_ingredients', 'healthy'\n",
    "                       , 'sugar (PDV)']], y_train)\n",
    "pl_final2.score(X_train[[\"published_year\", 'total fat (PDV)', 'n_ingredients', 'healthy'\n",
    "                         , 'sugar (PDV)']], y_train)"
   ]
  },
  {
   "cell_type": "code",
   "execution_count": 21,
   "metadata": {},
   "outputs": [
    {
     "data": {
      "text/plain": [
       "0.8214258278686812"
      ]
     },
     "execution_count": 21,
     "metadata": {},
     "output_type": "execute_result"
    }
   ],
   "source": [
    "#run tuned final model on test data\n",
    "pl_final2.score(X_test[[\"published_year\", 'total fat (PDV)', 'n_ingredients', 'healthy'\n",
    "                        , 'sugar (PDV)']], y_test)"
   ]
  },
  {
   "cell_type": "markdown",
   "metadata": {},
   "source": [
    "### Fairness Analysis"
   ]
  },
  {
   "cell_type": "markdown",
   "metadata": {},
   "source": [
    "> **Null Hypothesis**: The regressor's R squared value is the same for both old recipes and new recipes, and any differences are due to random chance.\n",
    "\n",
    "> **Alternative Hypothesis**: The regressor's R squred value is higher for new recipes.\n",
    "\n",
    "> **Test Statistic**: Difference in the R squared value for both group (old - new)\n",
    "\n",
    "> **Significance level**: 0.05"
   ]
  },
  {
   "cell_type": "code",
   "execution_count": 22,
   "metadata": {
    "ExecuteTime": {
     "end_time": "2019-10-31T23:36:28.666489Z",
     "start_time": "2019-10-31T23:36:28.664381Z"
    }
   },
   "outputs": [],
   "source": [
    "# Here we defined a function to help us to separate recipes into two category, \n",
    "# old and new, based on the published year \n",
    "def year_sort(row):\n",
    "    if (row[\"published_year\"] >= 2008) & (row[\"published_year\"] < 2012):\n",
    "        return \"old\"\n",
    "    if (row[\"published_year\"] >= 2012) & (row[\"published_year\"] <= 2018):\n",
    "        return \"new\"\n",
    "    return np.nan\n",
    "\n",
    "cleaned_recipes[\"old_new\"] = cleaned_recipes.apply (lambda row: year_sort(row), axis=1)"
   ]
  },
  {
   "cell_type": "code",
   "execution_count": 23,
   "metadata": {},
   "outputs": [
    {
     "name": "stderr",
     "output_type": "stream",
     "text": [
      "/var/folders/rj/dpbwchcx3tz4lk0s_qynk5fw0000gn/T/ipykernel_12948/1634554436.py:3: DeprecationWarning: DataFrameGroupBy.apply operated on the grouping columns. This behavior is deprecated, and in a future version of pandas the grouping columns will be excluded from the operation. Either pass `include_groups=False` to exclude the groupings or explicitly select the grouping columns after groupby to silence this warning.\n",
      "  obs = cleaned_recipes.groupby('old_new').apply(lambda x: pl_final2.score(x[[\"published_year\",\n"
     ]
    },
    {
     "data": {
      "text/plain": [
       "np.float64(-0.008995926778622154)"
      ]
     },
     "execution_count": 23,
     "metadata": {},
     "output_type": "execute_result"
    }
   ],
   "source": [
    "# calculate the observed test statistics. Our test statistics is the difference between \n",
    "# new and old recipes.\n",
    "obs = cleaned_recipes.groupby('old_new').apply(lambda x: pl_final2.score(x[[\"published_year\", \n",
    "                                                                            'total fat (PDV)', \n",
    "                                                                            'n_ingredients','healthy', \n",
    "                                                                            'sugar (PDV)']], \n",
    "                                                                         x['calories (#)'])\n",
    "                                              ).diff().iloc[-1]\n",
    "obs"
   ]
  },
  {
   "cell_type": "code",
   "execution_count": 24,
   "metadata": {},
   "outputs": [
    {
     "name": "stderr",
     "output_type": "stream",
     "text": [
      "/var/folders/rj/dpbwchcx3tz4lk0s_qynk5fw0000gn/T/ipykernel_12948/1466094472.py:10: DeprecationWarning: DataFrameGroupBy.apply operated on the grouping columns. This behavior is deprecated, and in a future version of pandas the grouping columns will be excluded from the operation. Either pass `include_groups=False` to exclude the groupings or explicitly select the grouping columns after groupby to silence this warning.\n",
      "  .apply(lambda x: pl_final2.score(x[[\"published_year\", 'total fat (PDV)',\n",
      "/var/folders/rj/dpbwchcx3tz4lk0s_qynk5fw0000gn/T/ipykernel_12948/1466094472.py:10: DeprecationWarning: DataFrameGroupBy.apply operated on the grouping columns. This behavior is deprecated, and in a future version of pandas the grouping columns will be excluded from the operation. Either pass `include_groups=False` to exclude the groupings or explicitly select the grouping columns after groupby to silence this warning.\n",
      "  .apply(lambda x: pl_final2.score(x[[\"published_year\", 'total fat (PDV)',\n",
      "/var/folders/rj/dpbwchcx3tz4lk0s_qynk5fw0000gn/T/ipykernel_12948/1466094472.py:10: DeprecationWarning: DataFrameGroupBy.apply operated on the grouping columns. This behavior is deprecated, and in a future version of pandas the grouping columns will be excluded from the operation. Either pass `include_groups=False` to exclude the groupings or explicitly select the grouping columns after groupby to silence this warning.\n",
      "  .apply(lambda x: pl_final2.score(x[[\"published_year\", 'total fat (PDV)',\n",
      "/var/folders/rj/dpbwchcx3tz4lk0s_qynk5fw0000gn/T/ipykernel_12948/1466094472.py:10: DeprecationWarning: DataFrameGroupBy.apply operated on the grouping columns. This behavior is deprecated, and in a future version of pandas the grouping columns will be excluded from the operation. Either pass `include_groups=False` to exclude the groupings or explicitly select the grouping columns after groupby to silence this warning.\n",
      "  .apply(lambda x: pl_final2.score(x[[\"published_year\", 'total fat (PDV)',\n",
      "/var/folders/rj/dpbwchcx3tz4lk0s_qynk5fw0000gn/T/ipykernel_12948/1466094472.py:10: DeprecationWarning: DataFrameGroupBy.apply operated on the grouping columns. This behavior is deprecated, and in a future version of pandas the grouping columns will be excluded from the operation. Either pass `include_groups=False` to exclude the groupings or explicitly select the grouping columns after groupby to silence this warning.\n",
      "  .apply(lambda x: pl_final2.score(x[[\"published_year\", 'total fat (PDV)',\n",
      "/var/folders/rj/dpbwchcx3tz4lk0s_qynk5fw0000gn/T/ipykernel_12948/1466094472.py:10: DeprecationWarning: DataFrameGroupBy.apply operated on the grouping columns. This behavior is deprecated, and in a future version of pandas the grouping columns will be excluded from the operation. Either pass `include_groups=False` to exclude the groupings or explicitly select the grouping columns after groupby to silence this warning.\n",
      "  .apply(lambda x: pl_final2.score(x[[\"published_year\", 'total fat (PDV)',\n",
      "/var/folders/rj/dpbwchcx3tz4lk0s_qynk5fw0000gn/T/ipykernel_12948/1466094472.py:10: DeprecationWarning: DataFrameGroupBy.apply operated on the grouping columns. This behavior is deprecated, and in a future version of pandas the grouping columns will be excluded from the operation. Either pass `include_groups=False` to exclude the groupings or explicitly select the grouping columns after groupby to silence this warning.\n",
      "  .apply(lambda x: pl_final2.score(x[[\"published_year\", 'total fat (PDV)',\n",
      "/var/folders/rj/dpbwchcx3tz4lk0s_qynk5fw0000gn/T/ipykernel_12948/1466094472.py:10: DeprecationWarning: DataFrameGroupBy.apply operated on the grouping columns. This behavior is deprecated, and in a future version of pandas the grouping columns will be excluded from the operation. Either pass `include_groups=False` to exclude the groupings or explicitly select the grouping columns after groupby to silence this warning.\n",
      "  .apply(lambda x: pl_final2.score(x[[\"published_year\", 'total fat (PDV)',\n",
      "/var/folders/rj/dpbwchcx3tz4lk0s_qynk5fw0000gn/T/ipykernel_12948/1466094472.py:10: DeprecationWarning: DataFrameGroupBy.apply operated on the grouping columns. This behavior is deprecated, and in a future version of pandas the grouping columns will be excluded from the operation. Either pass `include_groups=False` to exclude the groupings or explicitly select the grouping columns after groupby to silence this warning.\n",
      "  .apply(lambda x: pl_final2.score(x[[\"published_year\", 'total fat (PDV)',\n",
      "/var/folders/rj/dpbwchcx3tz4lk0s_qynk5fw0000gn/T/ipykernel_12948/1466094472.py:10: DeprecationWarning: DataFrameGroupBy.apply operated on the grouping columns. This behavior is deprecated, and in a future version of pandas the grouping columns will be excluded from the operation. Either pass `include_groups=False` to exclude the groupings or explicitly select the grouping columns after groupby to silence this warning.\n",
      "  .apply(lambda x: pl_final2.score(x[[\"published_year\", 'total fat (PDV)',\n",
      "/var/folders/rj/dpbwchcx3tz4lk0s_qynk5fw0000gn/T/ipykernel_12948/1466094472.py:10: DeprecationWarning: DataFrameGroupBy.apply operated on the grouping columns. This behavior is deprecated, and in a future version of pandas the grouping columns will be excluded from the operation. Either pass `include_groups=False` to exclude the groupings or explicitly select the grouping columns after groupby to silence this warning.\n",
      "  .apply(lambda x: pl_final2.score(x[[\"published_year\", 'total fat (PDV)',\n",
      "/var/folders/rj/dpbwchcx3tz4lk0s_qynk5fw0000gn/T/ipykernel_12948/1466094472.py:10: DeprecationWarning: DataFrameGroupBy.apply operated on the grouping columns. This behavior is deprecated, and in a future version of pandas the grouping columns will be excluded from the operation. Either pass `include_groups=False` to exclude the groupings or explicitly select the grouping columns after groupby to silence this warning.\n",
      "  .apply(lambda x: pl_final2.score(x[[\"published_year\", 'total fat (PDV)',\n",
      "/var/folders/rj/dpbwchcx3tz4lk0s_qynk5fw0000gn/T/ipykernel_12948/1466094472.py:10: DeprecationWarning: DataFrameGroupBy.apply operated on the grouping columns. This behavior is deprecated, and in a future version of pandas the grouping columns will be excluded from the operation. Either pass `include_groups=False` to exclude the groupings or explicitly select the grouping columns after groupby to silence this warning.\n",
      "  .apply(lambda x: pl_final2.score(x[[\"published_year\", 'total fat (PDV)',\n",
      "/var/folders/rj/dpbwchcx3tz4lk0s_qynk5fw0000gn/T/ipykernel_12948/1466094472.py:10: DeprecationWarning: DataFrameGroupBy.apply operated on the grouping columns. This behavior is deprecated, and in a future version of pandas the grouping columns will be excluded from the operation. Either pass `include_groups=False` to exclude the groupings or explicitly select the grouping columns after groupby to silence this warning.\n",
      "  .apply(lambda x: pl_final2.score(x[[\"published_year\", 'total fat (PDV)',\n",
      "/var/folders/rj/dpbwchcx3tz4lk0s_qynk5fw0000gn/T/ipykernel_12948/1466094472.py:10: DeprecationWarning: DataFrameGroupBy.apply operated on the grouping columns. This behavior is deprecated, and in a future version of pandas the grouping columns will be excluded from the operation. Either pass `include_groups=False` to exclude the groupings or explicitly select the grouping columns after groupby to silence this warning.\n",
      "  .apply(lambda x: pl_final2.score(x[[\"published_year\", 'total fat (PDV)',\n",
      "/var/folders/rj/dpbwchcx3tz4lk0s_qynk5fw0000gn/T/ipykernel_12948/1466094472.py:10: DeprecationWarning: DataFrameGroupBy.apply operated on the grouping columns. This behavior is deprecated, and in a future version of pandas the grouping columns will be excluded from the operation. Either pass `include_groups=False` to exclude the groupings or explicitly select the grouping columns after groupby to silence this warning.\n",
      "  .apply(lambda x: pl_final2.score(x[[\"published_year\", 'total fat (PDV)',\n",
      "/var/folders/rj/dpbwchcx3tz4lk0s_qynk5fw0000gn/T/ipykernel_12948/1466094472.py:10: DeprecationWarning: DataFrameGroupBy.apply operated on the grouping columns. This behavior is deprecated, and in a future version of pandas the grouping columns will be excluded from the operation. Either pass `include_groups=False` to exclude the groupings or explicitly select the grouping columns after groupby to silence this warning.\n",
      "  .apply(lambda x: pl_final2.score(x[[\"published_year\", 'total fat (PDV)',\n",
      "/var/folders/rj/dpbwchcx3tz4lk0s_qynk5fw0000gn/T/ipykernel_12948/1466094472.py:10: DeprecationWarning: DataFrameGroupBy.apply operated on the grouping columns. This behavior is deprecated, and in a future version of pandas the grouping columns will be excluded from the operation. Either pass `include_groups=False` to exclude the groupings or explicitly select the grouping columns after groupby to silence this warning.\n",
      "  .apply(lambda x: pl_final2.score(x[[\"published_year\", 'total fat (PDV)',\n",
      "/var/folders/rj/dpbwchcx3tz4lk0s_qynk5fw0000gn/T/ipykernel_12948/1466094472.py:10: DeprecationWarning: DataFrameGroupBy.apply operated on the grouping columns. This behavior is deprecated, and in a future version of pandas the grouping columns will be excluded from the operation. Either pass `include_groups=False` to exclude the groupings or explicitly select the grouping columns after groupby to silence this warning.\n",
      "  .apply(lambda x: pl_final2.score(x[[\"published_year\", 'total fat (PDV)',\n",
      "/var/folders/rj/dpbwchcx3tz4lk0s_qynk5fw0000gn/T/ipykernel_12948/1466094472.py:10: DeprecationWarning: DataFrameGroupBy.apply operated on the grouping columns. This behavior is deprecated, and in a future version of pandas the grouping columns will be excluded from the operation. Either pass `include_groups=False` to exclude the groupings or explicitly select the grouping columns after groupby to silence this warning.\n",
      "  .apply(lambda x: pl_final2.score(x[[\"published_year\", 'total fat (PDV)',\n",
      "/var/folders/rj/dpbwchcx3tz4lk0s_qynk5fw0000gn/T/ipykernel_12948/1466094472.py:10: DeprecationWarning: DataFrameGroupBy.apply operated on the grouping columns. This behavior is deprecated, and in a future version of pandas the grouping columns will be excluded from the operation. Either pass `include_groups=False` to exclude the groupings or explicitly select the grouping columns after groupby to silence this warning.\n",
      "  .apply(lambda x: pl_final2.score(x[[\"published_year\", 'total fat (PDV)',\n",
      "/var/folders/rj/dpbwchcx3tz4lk0s_qynk5fw0000gn/T/ipykernel_12948/1466094472.py:10: DeprecationWarning: DataFrameGroupBy.apply operated on the grouping columns. This behavior is deprecated, and in a future version of pandas the grouping columns will be excluded from the operation. Either pass `include_groups=False` to exclude the groupings or explicitly select the grouping columns after groupby to silence this warning.\n",
      "  .apply(lambda x: pl_final2.score(x[[\"published_year\", 'total fat (PDV)',\n",
      "/var/folders/rj/dpbwchcx3tz4lk0s_qynk5fw0000gn/T/ipykernel_12948/1466094472.py:10: DeprecationWarning: DataFrameGroupBy.apply operated on the grouping columns. This behavior is deprecated, and in a future version of pandas the grouping columns will be excluded from the operation. Either pass `include_groups=False` to exclude the groupings or explicitly select the grouping columns after groupby to silence this warning.\n",
      "  .apply(lambda x: pl_final2.score(x[[\"published_year\", 'total fat (PDV)',\n",
      "/var/folders/rj/dpbwchcx3tz4lk0s_qynk5fw0000gn/T/ipykernel_12948/1466094472.py:10: DeprecationWarning: DataFrameGroupBy.apply operated on the grouping columns. This behavior is deprecated, and in a future version of pandas the grouping columns will be excluded from the operation. Either pass `include_groups=False` to exclude the groupings or explicitly select the grouping columns after groupby to silence this warning.\n",
      "  .apply(lambda x: pl_final2.score(x[[\"published_year\", 'total fat (PDV)',\n",
      "/var/folders/rj/dpbwchcx3tz4lk0s_qynk5fw0000gn/T/ipykernel_12948/1466094472.py:10: DeprecationWarning: DataFrameGroupBy.apply operated on the grouping columns. This behavior is deprecated, and in a future version of pandas the grouping columns will be excluded from the operation. Either pass `include_groups=False` to exclude the groupings or explicitly select the grouping columns after groupby to silence this warning.\n",
      "  .apply(lambda x: pl_final2.score(x[[\"published_year\", 'total fat (PDV)',\n",
      "/var/folders/rj/dpbwchcx3tz4lk0s_qynk5fw0000gn/T/ipykernel_12948/1466094472.py:10: DeprecationWarning: DataFrameGroupBy.apply operated on the grouping columns. This behavior is deprecated, and in a future version of pandas the grouping columns will be excluded from the operation. Either pass `include_groups=False` to exclude the groupings or explicitly select the grouping columns after groupby to silence this warning.\n",
      "  .apply(lambda x: pl_final2.score(x[[\"published_year\", 'total fat (PDV)',\n",
      "/var/folders/rj/dpbwchcx3tz4lk0s_qynk5fw0000gn/T/ipykernel_12948/1466094472.py:10: DeprecationWarning: DataFrameGroupBy.apply operated on the grouping columns. This behavior is deprecated, and in a future version of pandas the grouping columns will be excluded from the operation. Either pass `include_groups=False` to exclude the groupings or explicitly select the grouping columns after groupby to silence this warning.\n",
      "  .apply(lambda x: pl_final2.score(x[[\"published_year\", 'total fat (PDV)',\n",
      "/var/folders/rj/dpbwchcx3tz4lk0s_qynk5fw0000gn/T/ipykernel_12948/1466094472.py:10: DeprecationWarning: DataFrameGroupBy.apply operated on the grouping columns. This behavior is deprecated, and in a future version of pandas the grouping columns will be excluded from the operation. Either pass `include_groups=False` to exclude the groupings or explicitly select the grouping columns after groupby to silence this warning.\n",
      "  .apply(lambda x: pl_final2.score(x[[\"published_year\", 'total fat (PDV)',\n",
      "/var/folders/rj/dpbwchcx3tz4lk0s_qynk5fw0000gn/T/ipykernel_12948/1466094472.py:10: DeprecationWarning: DataFrameGroupBy.apply operated on the grouping columns. This behavior is deprecated, and in a future version of pandas the grouping columns will be excluded from the operation. Either pass `include_groups=False` to exclude the groupings or explicitly select the grouping columns after groupby to silence this warning.\n",
      "  .apply(lambda x: pl_final2.score(x[[\"published_year\", 'total fat (PDV)',\n",
      "/var/folders/rj/dpbwchcx3tz4lk0s_qynk5fw0000gn/T/ipykernel_12948/1466094472.py:10: DeprecationWarning: DataFrameGroupBy.apply operated on the grouping columns. This behavior is deprecated, and in a future version of pandas the grouping columns will be excluded from the operation. Either pass `include_groups=False` to exclude the groupings or explicitly select the grouping columns after groupby to silence this warning.\n",
      "  .apply(lambda x: pl_final2.score(x[[\"published_year\", 'total fat (PDV)',\n",
      "/var/folders/rj/dpbwchcx3tz4lk0s_qynk5fw0000gn/T/ipykernel_12948/1466094472.py:10: DeprecationWarning: DataFrameGroupBy.apply operated on the grouping columns. This behavior is deprecated, and in a future version of pandas the grouping columns will be excluded from the operation. Either pass `include_groups=False` to exclude the groupings or explicitly select the grouping columns after groupby to silence this warning.\n",
      "  .apply(lambda x: pl_final2.score(x[[\"published_year\", 'total fat (PDV)',\n",
      "/var/folders/rj/dpbwchcx3tz4lk0s_qynk5fw0000gn/T/ipykernel_12948/1466094472.py:10: DeprecationWarning: DataFrameGroupBy.apply operated on the grouping columns. This behavior is deprecated, and in a future version of pandas the grouping columns will be excluded from the operation. Either pass `include_groups=False` to exclude the groupings or explicitly select the grouping columns after groupby to silence this warning.\n",
      "  .apply(lambda x: pl_final2.score(x[[\"published_year\", 'total fat (PDV)',\n",
      "/var/folders/rj/dpbwchcx3tz4lk0s_qynk5fw0000gn/T/ipykernel_12948/1466094472.py:10: DeprecationWarning: DataFrameGroupBy.apply operated on the grouping columns. This behavior is deprecated, and in a future version of pandas the grouping columns will be excluded from the operation. Either pass `include_groups=False` to exclude the groupings or explicitly select the grouping columns after groupby to silence this warning.\n",
      "  .apply(lambda x: pl_final2.score(x[[\"published_year\", 'total fat (PDV)',\n",
      "/var/folders/rj/dpbwchcx3tz4lk0s_qynk5fw0000gn/T/ipykernel_12948/1466094472.py:10: DeprecationWarning: DataFrameGroupBy.apply operated on the grouping columns. This behavior is deprecated, and in a future version of pandas the grouping columns will be excluded from the operation. Either pass `include_groups=False` to exclude the groupings or explicitly select the grouping columns after groupby to silence this warning.\n",
      "  .apply(lambda x: pl_final2.score(x[[\"published_year\", 'total fat (PDV)',\n",
      "/var/folders/rj/dpbwchcx3tz4lk0s_qynk5fw0000gn/T/ipykernel_12948/1466094472.py:10: DeprecationWarning: DataFrameGroupBy.apply operated on the grouping columns. This behavior is deprecated, and in a future version of pandas the grouping columns will be excluded from the operation. Either pass `include_groups=False` to exclude the groupings or explicitly select the grouping columns after groupby to silence this warning.\n",
      "  .apply(lambda x: pl_final2.score(x[[\"published_year\", 'total fat (PDV)',\n",
      "/var/folders/rj/dpbwchcx3tz4lk0s_qynk5fw0000gn/T/ipykernel_12948/1466094472.py:10: DeprecationWarning: DataFrameGroupBy.apply operated on the grouping columns. This behavior is deprecated, and in a future version of pandas the grouping columns will be excluded from the operation. Either pass `include_groups=False` to exclude the groupings or explicitly select the grouping columns after groupby to silence this warning.\n",
      "  .apply(lambda x: pl_final2.score(x[[\"published_year\", 'total fat (PDV)',\n",
      "/var/folders/rj/dpbwchcx3tz4lk0s_qynk5fw0000gn/T/ipykernel_12948/1466094472.py:10: DeprecationWarning: DataFrameGroupBy.apply operated on the grouping columns. This behavior is deprecated, and in a future version of pandas the grouping columns will be excluded from the operation. Either pass `include_groups=False` to exclude the groupings or explicitly select the grouping columns after groupby to silence this warning.\n",
      "  .apply(lambda x: pl_final2.score(x[[\"published_year\", 'total fat (PDV)',\n",
      "/var/folders/rj/dpbwchcx3tz4lk0s_qynk5fw0000gn/T/ipykernel_12948/1466094472.py:10: DeprecationWarning: DataFrameGroupBy.apply operated on the grouping columns. This behavior is deprecated, and in a future version of pandas the grouping columns will be excluded from the operation. Either pass `include_groups=False` to exclude the groupings or explicitly select the grouping columns after groupby to silence this warning.\n",
      "  .apply(lambda x: pl_final2.score(x[[\"published_year\", 'total fat (PDV)',\n",
      "/var/folders/rj/dpbwchcx3tz4lk0s_qynk5fw0000gn/T/ipykernel_12948/1466094472.py:10: DeprecationWarning: DataFrameGroupBy.apply operated on the grouping columns. This behavior is deprecated, and in a future version of pandas the grouping columns will be excluded from the operation. Either pass `include_groups=False` to exclude the groupings or explicitly select the grouping columns after groupby to silence this warning.\n",
      "  .apply(lambda x: pl_final2.score(x[[\"published_year\", 'total fat (PDV)',\n",
      "/var/folders/rj/dpbwchcx3tz4lk0s_qynk5fw0000gn/T/ipykernel_12948/1466094472.py:10: DeprecationWarning: DataFrameGroupBy.apply operated on the grouping columns. This behavior is deprecated, and in a future version of pandas the grouping columns will be excluded from the operation. Either pass `include_groups=False` to exclude the groupings or explicitly select the grouping columns after groupby to silence this warning.\n",
      "  .apply(lambda x: pl_final2.score(x[[\"published_year\", 'total fat (PDV)',\n",
      "/var/folders/rj/dpbwchcx3tz4lk0s_qynk5fw0000gn/T/ipykernel_12948/1466094472.py:10: DeprecationWarning: DataFrameGroupBy.apply operated on the grouping columns. This behavior is deprecated, and in a future version of pandas the grouping columns will be excluded from the operation. Either pass `include_groups=False` to exclude the groupings or explicitly select the grouping columns after groupby to silence this warning.\n",
      "  .apply(lambda x: pl_final2.score(x[[\"published_year\", 'total fat (PDV)',\n",
      "/var/folders/rj/dpbwchcx3tz4lk0s_qynk5fw0000gn/T/ipykernel_12948/1466094472.py:10: DeprecationWarning: DataFrameGroupBy.apply operated on the grouping columns. This behavior is deprecated, and in a future version of pandas the grouping columns will be excluded from the operation. Either pass `include_groups=False` to exclude the groupings or explicitly select the grouping columns after groupby to silence this warning.\n",
      "  .apply(lambda x: pl_final2.score(x[[\"published_year\", 'total fat (PDV)',\n",
      "/var/folders/rj/dpbwchcx3tz4lk0s_qynk5fw0000gn/T/ipykernel_12948/1466094472.py:10: DeprecationWarning: DataFrameGroupBy.apply operated on the grouping columns. This behavior is deprecated, and in a future version of pandas the grouping columns will be excluded from the operation. Either pass `include_groups=False` to exclude the groupings or explicitly select the grouping columns after groupby to silence this warning.\n",
      "  .apply(lambda x: pl_final2.score(x[[\"published_year\", 'total fat (PDV)',\n",
      "/var/folders/rj/dpbwchcx3tz4lk0s_qynk5fw0000gn/T/ipykernel_12948/1466094472.py:10: DeprecationWarning: DataFrameGroupBy.apply operated on the grouping columns. This behavior is deprecated, and in a future version of pandas the grouping columns will be excluded from the operation. Either pass `include_groups=False` to exclude the groupings or explicitly select the grouping columns after groupby to silence this warning.\n",
      "  .apply(lambda x: pl_final2.score(x[[\"published_year\", 'total fat (PDV)',\n",
      "/var/folders/rj/dpbwchcx3tz4lk0s_qynk5fw0000gn/T/ipykernel_12948/1466094472.py:10: DeprecationWarning: DataFrameGroupBy.apply operated on the grouping columns. This behavior is deprecated, and in a future version of pandas the grouping columns will be excluded from the operation. Either pass `include_groups=False` to exclude the groupings or explicitly select the grouping columns after groupby to silence this warning.\n",
      "  .apply(lambda x: pl_final2.score(x[[\"published_year\", 'total fat (PDV)',\n",
      "/var/folders/rj/dpbwchcx3tz4lk0s_qynk5fw0000gn/T/ipykernel_12948/1466094472.py:10: DeprecationWarning: DataFrameGroupBy.apply operated on the grouping columns. This behavior is deprecated, and in a future version of pandas the grouping columns will be excluded from the operation. Either pass `include_groups=False` to exclude the groupings or explicitly select the grouping columns after groupby to silence this warning.\n",
      "  .apply(lambda x: pl_final2.score(x[[\"published_year\", 'total fat (PDV)',\n",
      "/var/folders/rj/dpbwchcx3tz4lk0s_qynk5fw0000gn/T/ipykernel_12948/1466094472.py:10: DeprecationWarning: DataFrameGroupBy.apply operated on the grouping columns. This behavior is deprecated, and in a future version of pandas the grouping columns will be excluded from the operation. Either pass `include_groups=False` to exclude the groupings or explicitly select the grouping columns after groupby to silence this warning.\n",
      "  .apply(lambda x: pl_final2.score(x[[\"published_year\", 'total fat (PDV)',\n",
      "/var/folders/rj/dpbwchcx3tz4lk0s_qynk5fw0000gn/T/ipykernel_12948/1466094472.py:10: DeprecationWarning: DataFrameGroupBy.apply operated on the grouping columns. This behavior is deprecated, and in a future version of pandas the grouping columns will be excluded from the operation. Either pass `include_groups=False` to exclude the groupings or explicitly select the grouping columns after groupby to silence this warning.\n",
      "  .apply(lambda x: pl_final2.score(x[[\"published_year\", 'total fat (PDV)',\n",
      "/var/folders/rj/dpbwchcx3tz4lk0s_qynk5fw0000gn/T/ipykernel_12948/1466094472.py:10: DeprecationWarning: DataFrameGroupBy.apply operated on the grouping columns. This behavior is deprecated, and in a future version of pandas the grouping columns will be excluded from the operation. Either pass `include_groups=False` to exclude the groupings or explicitly select the grouping columns after groupby to silence this warning.\n",
      "  .apply(lambda x: pl_final2.score(x[[\"published_year\", 'total fat (PDV)',\n",
      "/var/folders/rj/dpbwchcx3tz4lk0s_qynk5fw0000gn/T/ipykernel_12948/1466094472.py:10: DeprecationWarning: DataFrameGroupBy.apply operated on the grouping columns. This behavior is deprecated, and in a future version of pandas the grouping columns will be excluded from the operation. Either pass `include_groups=False` to exclude the groupings or explicitly select the grouping columns after groupby to silence this warning.\n",
      "  .apply(lambda x: pl_final2.score(x[[\"published_year\", 'total fat (PDV)',\n",
      "/var/folders/rj/dpbwchcx3tz4lk0s_qynk5fw0000gn/T/ipykernel_12948/1466094472.py:10: DeprecationWarning: DataFrameGroupBy.apply operated on the grouping columns. This behavior is deprecated, and in a future version of pandas the grouping columns will be excluded from the operation. Either pass `include_groups=False` to exclude the groupings or explicitly select the grouping columns after groupby to silence this warning.\n",
      "  .apply(lambda x: pl_final2.score(x[[\"published_year\", 'total fat (PDV)',\n",
      "/var/folders/rj/dpbwchcx3tz4lk0s_qynk5fw0000gn/T/ipykernel_12948/1466094472.py:10: DeprecationWarning: DataFrameGroupBy.apply operated on the grouping columns. This behavior is deprecated, and in a future version of pandas the grouping columns will be excluded from the operation. Either pass `include_groups=False` to exclude the groupings or explicitly select the grouping columns after groupby to silence this warning.\n",
      "  .apply(lambda x: pl_final2.score(x[[\"published_year\", 'total fat (PDV)',\n",
      "/var/folders/rj/dpbwchcx3tz4lk0s_qynk5fw0000gn/T/ipykernel_12948/1466094472.py:10: DeprecationWarning: DataFrameGroupBy.apply operated on the grouping columns. This behavior is deprecated, and in a future version of pandas the grouping columns will be excluded from the operation. Either pass `include_groups=False` to exclude the groupings or explicitly select the grouping columns after groupby to silence this warning.\n",
      "  .apply(lambda x: pl_final2.score(x[[\"published_year\", 'total fat (PDV)',\n",
      "/var/folders/rj/dpbwchcx3tz4lk0s_qynk5fw0000gn/T/ipykernel_12948/1466094472.py:10: DeprecationWarning: DataFrameGroupBy.apply operated on the grouping columns. This behavior is deprecated, and in a future version of pandas the grouping columns will be excluded from the operation. Either pass `include_groups=False` to exclude the groupings or explicitly select the grouping columns after groupby to silence this warning.\n",
      "  .apply(lambda x: pl_final2.score(x[[\"published_year\", 'total fat (PDV)',\n",
      "/var/folders/rj/dpbwchcx3tz4lk0s_qynk5fw0000gn/T/ipykernel_12948/1466094472.py:10: DeprecationWarning: DataFrameGroupBy.apply operated on the grouping columns. This behavior is deprecated, and in a future version of pandas the grouping columns will be excluded from the operation. Either pass `include_groups=False` to exclude the groupings or explicitly select the grouping columns after groupby to silence this warning.\n",
      "  .apply(lambda x: pl_final2.score(x[[\"published_year\", 'total fat (PDV)',\n",
      "/var/folders/rj/dpbwchcx3tz4lk0s_qynk5fw0000gn/T/ipykernel_12948/1466094472.py:10: DeprecationWarning: DataFrameGroupBy.apply operated on the grouping columns. This behavior is deprecated, and in a future version of pandas the grouping columns will be excluded from the operation. Either pass `include_groups=False` to exclude the groupings or explicitly select the grouping columns after groupby to silence this warning.\n",
      "  .apply(lambda x: pl_final2.score(x[[\"published_year\", 'total fat (PDV)',\n",
      "/var/folders/rj/dpbwchcx3tz4lk0s_qynk5fw0000gn/T/ipykernel_12948/1466094472.py:10: DeprecationWarning: DataFrameGroupBy.apply operated on the grouping columns. This behavior is deprecated, and in a future version of pandas the grouping columns will be excluded from the operation. Either pass `include_groups=False` to exclude the groupings or explicitly select the grouping columns after groupby to silence this warning.\n",
      "  .apply(lambda x: pl_final2.score(x[[\"published_year\", 'total fat (PDV)',\n",
      "/var/folders/rj/dpbwchcx3tz4lk0s_qynk5fw0000gn/T/ipykernel_12948/1466094472.py:10: DeprecationWarning: DataFrameGroupBy.apply operated on the grouping columns. This behavior is deprecated, and in a future version of pandas the grouping columns will be excluded from the operation. Either pass `include_groups=False` to exclude the groupings or explicitly select the grouping columns after groupby to silence this warning.\n",
      "  .apply(lambda x: pl_final2.score(x[[\"published_year\", 'total fat (PDV)',\n",
      "/var/folders/rj/dpbwchcx3tz4lk0s_qynk5fw0000gn/T/ipykernel_12948/1466094472.py:10: DeprecationWarning: DataFrameGroupBy.apply operated on the grouping columns. This behavior is deprecated, and in a future version of pandas the grouping columns will be excluded from the operation. Either pass `include_groups=False` to exclude the groupings or explicitly select the grouping columns after groupby to silence this warning.\n",
      "  .apply(lambda x: pl_final2.score(x[[\"published_year\", 'total fat (PDV)',\n",
      "/var/folders/rj/dpbwchcx3tz4lk0s_qynk5fw0000gn/T/ipykernel_12948/1466094472.py:10: DeprecationWarning: DataFrameGroupBy.apply operated on the grouping columns. This behavior is deprecated, and in a future version of pandas the grouping columns will be excluded from the operation. Either pass `include_groups=False` to exclude the groupings or explicitly select the grouping columns after groupby to silence this warning.\n",
      "  .apply(lambda x: pl_final2.score(x[[\"published_year\", 'total fat (PDV)',\n",
      "/var/folders/rj/dpbwchcx3tz4lk0s_qynk5fw0000gn/T/ipykernel_12948/1466094472.py:10: DeprecationWarning: DataFrameGroupBy.apply operated on the grouping columns. This behavior is deprecated, and in a future version of pandas the grouping columns will be excluded from the operation. Either pass `include_groups=False` to exclude the groupings or explicitly select the grouping columns after groupby to silence this warning.\n",
      "  .apply(lambda x: pl_final2.score(x[[\"published_year\", 'total fat (PDV)',\n",
      "/var/folders/rj/dpbwchcx3tz4lk0s_qynk5fw0000gn/T/ipykernel_12948/1466094472.py:10: DeprecationWarning: DataFrameGroupBy.apply operated on the grouping columns. This behavior is deprecated, and in a future version of pandas the grouping columns will be excluded from the operation. Either pass `include_groups=False` to exclude the groupings or explicitly select the grouping columns after groupby to silence this warning.\n",
      "  .apply(lambda x: pl_final2.score(x[[\"published_year\", 'total fat (PDV)',\n",
      "/var/folders/rj/dpbwchcx3tz4lk0s_qynk5fw0000gn/T/ipykernel_12948/1466094472.py:10: DeprecationWarning: DataFrameGroupBy.apply operated on the grouping columns. This behavior is deprecated, and in a future version of pandas the grouping columns will be excluded from the operation. Either pass `include_groups=False` to exclude the groupings or explicitly select the grouping columns after groupby to silence this warning.\n",
      "  .apply(lambda x: pl_final2.score(x[[\"published_year\", 'total fat (PDV)',\n",
      "/var/folders/rj/dpbwchcx3tz4lk0s_qynk5fw0000gn/T/ipykernel_12948/1466094472.py:10: DeprecationWarning: DataFrameGroupBy.apply operated on the grouping columns. This behavior is deprecated, and in a future version of pandas the grouping columns will be excluded from the operation. Either pass `include_groups=False` to exclude the groupings or explicitly select the grouping columns after groupby to silence this warning.\n",
      "  .apply(lambda x: pl_final2.score(x[[\"published_year\", 'total fat (PDV)',\n",
      "/var/folders/rj/dpbwchcx3tz4lk0s_qynk5fw0000gn/T/ipykernel_12948/1466094472.py:10: DeprecationWarning: DataFrameGroupBy.apply operated on the grouping columns. This behavior is deprecated, and in a future version of pandas the grouping columns will be excluded from the operation. Either pass `include_groups=False` to exclude the groupings or explicitly select the grouping columns after groupby to silence this warning.\n",
      "  .apply(lambda x: pl_final2.score(x[[\"published_year\", 'total fat (PDV)',\n",
      "/var/folders/rj/dpbwchcx3tz4lk0s_qynk5fw0000gn/T/ipykernel_12948/1466094472.py:10: DeprecationWarning: DataFrameGroupBy.apply operated on the grouping columns. This behavior is deprecated, and in a future version of pandas the grouping columns will be excluded from the operation. Either pass `include_groups=False` to exclude the groupings or explicitly select the grouping columns after groupby to silence this warning.\n",
      "  .apply(lambda x: pl_final2.score(x[[\"published_year\", 'total fat (PDV)',\n",
      "/var/folders/rj/dpbwchcx3tz4lk0s_qynk5fw0000gn/T/ipykernel_12948/1466094472.py:10: DeprecationWarning: DataFrameGroupBy.apply operated on the grouping columns. This behavior is deprecated, and in a future version of pandas the grouping columns will be excluded from the operation. Either pass `include_groups=False` to exclude the groupings or explicitly select the grouping columns after groupby to silence this warning.\n",
      "  .apply(lambda x: pl_final2.score(x[[\"published_year\", 'total fat (PDV)',\n",
      "/var/folders/rj/dpbwchcx3tz4lk0s_qynk5fw0000gn/T/ipykernel_12948/1466094472.py:10: DeprecationWarning: DataFrameGroupBy.apply operated on the grouping columns. This behavior is deprecated, and in a future version of pandas the grouping columns will be excluded from the operation. Either pass `include_groups=False` to exclude the groupings or explicitly select the grouping columns after groupby to silence this warning.\n",
      "  .apply(lambda x: pl_final2.score(x[[\"published_year\", 'total fat (PDV)',\n",
      "/var/folders/rj/dpbwchcx3tz4lk0s_qynk5fw0000gn/T/ipykernel_12948/1466094472.py:10: DeprecationWarning: DataFrameGroupBy.apply operated on the grouping columns. This behavior is deprecated, and in a future version of pandas the grouping columns will be excluded from the operation. Either pass `include_groups=False` to exclude the groupings or explicitly select the grouping columns after groupby to silence this warning.\n",
      "  .apply(lambda x: pl_final2.score(x[[\"published_year\", 'total fat (PDV)',\n",
      "/var/folders/rj/dpbwchcx3tz4lk0s_qynk5fw0000gn/T/ipykernel_12948/1466094472.py:10: DeprecationWarning: DataFrameGroupBy.apply operated on the grouping columns. This behavior is deprecated, and in a future version of pandas the grouping columns will be excluded from the operation. Either pass `include_groups=False` to exclude the groupings or explicitly select the grouping columns after groupby to silence this warning.\n",
      "  .apply(lambda x: pl_final2.score(x[[\"published_year\", 'total fat (PDV)',\n",
      "/var/folders/rj/dpbwchcx3tz4lk0s_qynk5fw0000gn/T/ipykernel_12948/1466094472.py:10: DeprecationWarning: DataFrameGroupBy.apply operated on the grouping columns. This behavior is deprecated, and in a future version of pandas the grouping columns will be excluded from the operation. Either pass `include_groups=False` to exclude the groupings or explicitly select the grouping columns after groupby to silence this warning.\n",
      "  .apply(lambda x: pl_final2.score(x[[\"published_year\", 'total fat (PDV)',\n",
      "/var/folders/rj/dpbwchcx3tz4lk0s_qynk5fw0000gn/T/ipykernel_12948/1466094472.py:10: DeprecationWarning: DataFrameGroupBy.apply operated on the grouping columns. This behavior is deprecated, and in a future version of pandas the grouping columns will be excluded from the operation. Either pass `include_groups=False` to exclude the groupings or explicitly select the grouping columns after groupby to silence this warning.\n",
      "  .apply(lambda x: pl_final2.score(x[[\"published_year\", 'total fat (PDV)',\n",
      "/var/folders/rj/dpbwchcx3tz4lk0s_qynk5fw0000gn/T/ipykernel_12948/1466094472.py:10: DeprecationWarning: DataFrameGroupBy.apply operated on the grouping columns. This behavior is deprecated, and in a future version of pandas the grouping columns will be excluded from the operation. Either pass `include_groups=False` to exclude the groupings or explicitly select the grouping columns after groupby to silence this warning.\n",
      "  .apply(lambda x: pl_final2.score(x[[\"published_year\", 'total fat (PDV)',\n",
      "/var/folders/rj/dpbwchcx3tz4lk0s_qynk5fw0000gn/T/ipykernel_12948/1466094472.py:10: DeprecationWarning: DataFrameGroupBy.apply operated on the grouping columns. This behavior is deprecated, and in a future version of pandas the grouping columns will be excluded from the operation. Either pass `include_groups=False` to exclude the groupings or explicitly select the grouping columns after groupby to silence this warning.\n",
      "  .apply(lambda x: pl_final2.score(x[[\"published_year\", 'total fat (PDV)',\n",
      "/var/folders/rj/dpbwchcx3tz4lk0s_qynk5fw0000gn/T/ipykernel_12948/1466094472.py:10: DeprecationWarning: DataFrameGroupBy.apply operated on the grouping columns. This behavior is deprecated, and in a future version of pandas the grouping columns will be excluded from the operation. Either pass `include_groups=False` to exclude the groupings or explicitly select the grouping columns after groupby to silence this warning.\n",
      "  .apply(lambda x: pl_final2.score(x[[\"published_year\", 'total fat (PDV)',\n",
      "/var/folders/rj/dpbwchcx3tz4lk0s_qynk5fw0000gn/T/ipykernel_12948/1466094472.py:10: DeprecationWarning: DataFrameGroupBy.apply operated on the grouping columns. This behavior is deprecated, and in a future version of pandas the grouping columns will be excluded from the operation. Either pass `include_groups=False` to exclude the groupings or explicitly select the grouping columns after groupby to silence this warning.\n",
      "  .apply(lambda x: pl_final2.score(x[[\"published_year\", 'total fat (PDV)',\n",
      "/var/folders/rj/dpbwchcx3tz4lk0s_qynk5fw0000gn/T/ipykernel_12948/1466094472.py:10: DeprecationWarning: DataFrameGroupBy.apply operated on the grouping columns. This behavior is deprecated, and in a future version of pandas the grouping columns will be excluded from the operation. Either pass `include_groups=False` to exclude the groupings or explicitly select the grouping columns after groupby to silence this warning.\n",
      "  .apply(lambda x: pl_final2.score(x[[\"published_year\", 'total fat (PDV)',\n",
      "/var/folders/rj/dpbwchcx3tz4lk0s_qynk5fw0000gn/T/ipykernel_12948/1466094472.py:10: DeprecationWarning: DataFrameGroupBy.apply operated on the grouping columns. This behavior is deprecated, and in a future version of pandas the grouping columns will be excluded from the operation. Either pass `include_groups=False` to exclude the groupings or explicitly select the grouping columns after groupby to silence this warning.\n",
      "  .apply(lambda x: pl_final2.score(x[[\"published_year\", 'total fat (PDV)',\n",
      "/var/folders/rj/dpbwchcx3tz4lk0s_qynk5fw0000gn/T/ipykernel_12948/1466094472.py:10: DeprecationWarning: DataFrameGroupBy.apply operated on the grouping columns. This behavior is deprecated, and in a future version of pandas the grouping columns will be excluded from the operation. Either pass `include_groups=False` to exclude the groupings or explicitly select the grouping columns after groupby to silence this warning.\n",
      "  .apply(lambda x: pl_final2.score(x[[\"published_year\", 'total fat (PDV)',\n",
      "/var/folders/rj/dpbwchcx3tz4lk0s_qynk5fw0000gn/T/ipykernel_12948/1466094472.py:10: DeprecationWarning: DataFrameGroupBy.apply operated on the grouping columns. This behavior is deprecated, and in a future version of pandas the grouping columns will be excluded from the operation. Either pass `include_groups=False` to exclude the groupings or explicitly select the grouping columns after groupby to silence this warning.\n",
      "  .apply(lambda x: pl_final2.score(x[[\"published_year\", 'total fat (PDV)',\n",
      "/var/folders/rj/dpbwchcx3tz4lk0s_qynk5fw0000gn/T/ipykernel_12948/1466094472.py:10: DeprecationWarning: DataFrameGroupBy.apply operated on the grouping columns. This behavior is deprecated, and in a future version of pandas the grouping columns will be excluded from the operation. Either pass `include_groups=False` to exclude the groupings or explicitly select the grouping columns after groupby to silence this warning.\n",
      "  .apply(lambda x: pl_final2.score(x[[\"published_year\", 'total fat (PDV)',\n",
      "/var/folders/rj/dpbwchcx3tz4lk0s_qynk5fw0000gn/T/ipykernel_12948/1466094472.py:10: DeprecationWarning: DataFrameGroupBy.apply operated on the grouping columns. This behavior is deprecated, and in a future version of pandas the grouping columns will be excluded from the operation. Either pass `include_groups=False` to exclude the groupings or explicitly select the grouping columns after groupby to silence this warning.\n",
      "  .apply(lambda x: pl_final2.score(x[[\"published_year\", 'total fat (PDV)',\n",
      "/var/folders/rj/dpbwchcx3tz4lk0s_qynk5fw0000gn/T/ipykernel_12948/1466094472.py:10: DeprecationWarning: DataFrameGroupBy.apply operated on the grouping columns. This behavior is deprecated, and in a future version of pandas the grouping columns will be excluded from the operation. Either pass `include_groups=False` to exclude the groupings or explicitly select the grouping columns after groupby to silence this warning.\n",
      "  .apply(lambda x: pl_final2.score(x[[\"published_year\", 'total fat (PDV)',\n",
      "/var/folders/rj/dpbwchcx3tz4lk0s_qynk5fw0000gn/T/ipykernel_12948/1466094472.py:10: DeprecationWarning: DataFrameGroupBy.apply operated on the grouping columns. This behavior is deprecated, and in a future version of pandas the grouping columns will be excluded from the operation. Either pass `include_groups=False` to exclude the groupings or explicitly select the grouping columns after groupby to silence this warning.\n",
      "  .apply(lambda x: pl_final2.score(x[[\"published_year\", 'total fat (PDV)',\n",
      "/var/folders/rj/dpbwchcx3tz4lk0s_qynk5fw0000gn/T/ipykernel_12948/1466094472.py:10: DeprecationWarning: DataFrameGroupBy.apply operated on the grouping columns. This behavior is deprecated, and in a future version of pandas the grouping columns will be excluded from the operation. Either pass `include_groups=False` to exclude the groupings or explicitly select the grouping columns after groupby to silence this warning.\n",
      "  .apply(lambda x: pl_final2.score(x[[\"published_year\", 'total fat (PDV)',\n",
      "/var/folders/rj/dpbwchcx3tz4lk0s_qynk5fw0000gn/T/ipykernel_12948/1466094472.py:10: DeprecationWarning: DataFrameGroupBy.apply operated on the grouping columns. This behavior is deprecated, and in a future version of pandas the grouping columns will be excluded from the operation. Either pass `include_groups=False` to exclude the groupings or explicitly select the grouping columns after groupby to silence this warning.\n",
      "  .apply(lambda x: pl_final2.score(x[[\"published_year\", 'total fat (PDV)',\n",
      "/var/folders/rj/dpbwchcx3tz4lk0s_qynk5fw0000gn/T/ipykernel_12948/1466094472.py:10: DeprecationWarning: DataFrameGroupBy.apply operated on the grouping columns. This behavior is deprecated, and in a future version of pandas the grouping columns will be excluded from the operation. Either pass `include_groups=False` to exclude the groupings or explicitly select the grouping columns after groupby to silence this warning.\n",
      "  .apply(lambda x: pl_final2.score(x[[\"published_year\", 'total fat (PDV)',\n",
      "/var/folders/rj/dpbwchcx3tz4lk0s_qynk5fw0000gn/T/ipykernel_12948/1466094472.py:10: DeprecationWarning: DataFrameGroupBy.apply operated on the grouping columns. This behavior is deprecated, and in a future version of pandas the grouping columns will be excluded from the operation. Either pass `include_groups=False` to exclude the groupings or explicitly select the grouping columns after groupby to silence this warning.\n",
      "  .apply(lambda x: pl_final2.score(x[[\"published_year\", 'total fat (PDV)',\n",
      "/var/folders/rj/dpbwchcx3tz4lk0s_qynk5fw0000gn/T/ipykernel_12948/1466094472.py:10: DeprecationWarning: DataFrameGroupBy.apply operated on the grouping columns. This behavior is deprecated, and in a future version of pandas the grouping columns will be excluded from the operation. Either pass `include_groups=False` to exclude the groupings or explicitly select the grouping columns after groupby to silence this warning.\n",
      "  .apply(lambda x: pl_final2.score(x[[\"published_year\", 'total fat (PDV)',\n",
      "/var/folders/rj/dpbwchcx3tz4lk0s_qynk5fw0000gn/T/ipykernel_12948/1466094472.py:10: DeprecationWarning: DataFrameGroupBy.apply operated on the grouping columns. This behavior is deprecated, and in a future version of pandas the grouping columns will be excluded from the operation. Either pass `include_groups=False` to exclude the groupings or explicitly select the grouping columns after groupby to silence this warning.\n",
      "  .apply(lambda x: pl_final2.score(x[[\"published_year\", 'total fat (PDV)',\n",
      "/var/folders/rj/dpbwchcx3tz4lk0s_qynk5fw0000gn/T/ipykernel_12948/1466094472.py:10: DeprecationWarning: DataFrameGroupBy.apply operated on the grouping columns. This behavior is deprecated, and in a future version of pandas the grouping columns will be excluded from the operation. Either pass `include_groups=False` to exclude the groupings or explicitly select the grouping columns after groupby to silence this warning.\n",
      "  .apply(lambda x: pl_final2.score(x[[\"published_year\", 'total fat (PDV)',\n",
      "/var/folders/rj/dpbwchcx3tz4lk0s_qynk5fw0000gn/T/ipykernel_12948/1466094472.py:10: DeprecationWarning: DataFrameGroupBy.apply operated on the grouping columns. This behavior is deprecated, and in a future version of pandas the grouping columns will be excluded from the operation. Either pass `include_groups=False` to exclude the groupings or explicitly select the grouping columns after groupby to silence this warning.\n",
      "  .apply(lambda x: pl_final2.score(x[[\"published_year\", 'total fat (PDV)',\n",
      "/var/folders/rj/dpbwchcx3tz4lk0s_qynk5fw0000gn/T/ipykernel_12948/1466094472.py:10: DeprecationWarning: DataFrameGroupBy.apply operated on the grouping columns. This behavior is deprecated, and in a future version of pandas the grouping columns will be excluded from the operation. Either pass `include_groups=False` to exclude the groupings or explicitly select the grouping columns after groupby to silence this warning.\n",
      "  .apply(lambda x: pl_final2.score(x[[\"published_year\", 'total fat (PDV)',\n",
      "/var/folders/rj/dpbwchcx3tz4lk0s_qynk5fw0000gn/T/ipykernel_12948/1466094472.py:10: DeprecationWarning: DataFrameGroupBy.apply operated on the grouping columns. This behavior is deprecated, and in a future version of pandas the grouping columns will be excluded from the operation. Either pass `include_groups=False` to exclude the groupings or explicitly select the grouping columns after groupby to silence this warning.\n",
      "  .apply(lambda x: pl_final2.score(x[[\"published_year\", 'total fat (PDV)',\n",
      "/var/folders/rj/dpbwchcx3tz4lk0s_qynk5fw0000gn/T/ipykernel_12948/1466094472.py:10: DeprecationWarning: DataFrameGroupBy.apply operated on the grouping columns. This behavior is deprecated, and in a future version of pandas the grouping columns will be excluded from the operation. Either pass `include_groups=False` to exclude the groupings or explicitly select the grouping columns after groupby to silence this warning.\n",
      "  .apply(lambda x: pl_final2.score(x[[\"published_year\", 'total fat (PDV)',\n",
      "/var/folders/rj/dpbwchcx3tz4lk0s_qynk5fw0000gn/T/ipykernel_12948/1466094472.py:10: DeprecationWarning: DataFrameGroupBy.apply operated on the grouping columns. This behavior is deprecated, and in a future version of pandas the grouping columns will be excluded from the operation. Either pass `include_groups=False` to exclude the groupings or explicitly select the grouping columns after groupby to silence this warning.\n",
      "  .apply(lambda x: pl_final2.score(x[[\"published_year\", 'total fat (PDV)',\n",
      "/var/folders/rj/dpbwchcx3tz4lk0s_qynk5fw0000gn/T/ipykernel_12948/1466094472.py:10: DeprecationWarning: DataFrameGroupBy.apply operated on the grouping columns. This behavior is deprecated, and in a future version of pandas the grouping columns will be excluded from the operation. Either pass `include_groups=False` to exclude the groupings or explicitly select the grouping columns after groupby to silence this warning.\n",
      "  .apply(lambda x: pl_final2.score(x[[\"published_year\", 'total fat (PDV)',\n",
      "/var/folders/rj/dpbwchcx3tz4lk0s_qynk5fw0000gn/T/ipykernel_12948/1466094472.py:10: DeprecationWarning: DataFrameGroupBy.apply operated on the grouping columns. This behavior is deprecated, and in a future version of pandas the grouping columns will be excluded from the operation. Either pass `include_groups=False` to exclude the groupings or explicitly select the grouping columns after groupby to silence this warning.\n",
      "  .apply(lambda x: pl_final2.score(x[[\"published_year\", 'total fat (PDV)',\n",
      "/var/folders/rj/dpbwchcx3tz4lk0s_qynk5fw0000gn/T/ipykernel_12948/1466094472.py:10: DeprecationWarning: DataFrameGroupBy.apply operated on the grouping columns. This behavior is deprecated, and in a future version of pandas the grouping columns will be excluded from the operation. Either pass `include_groups=False` to exclude the groupings or explicitly select the grouping columns after groupby to silence this warning.\n",
      "  .apply(lambda x: pl_final2.score(x[[\"published_year\", 'total fat (PDV)',\n",
      "/var/folders/rj/dpbwchcx3tz4lk0s_qynk5fw0000gn/T/ipykernel_12948/1466094472.py:10: DeprecationWarning: DataFrameGroupBy.apply operated on the grouping columns. This behavior is deprecated, and in a future version of pandas the grouping columns will be excluded from the operation. Either pass `include_groups=False` to exclude the groupings or explicitly select the grouping columns after groupby to silence this warning.\n",
      "  .apply(lambda x: pl_final2.score(x[[\"published_year\", 'total fat (PDV)',\n"
     ]
    }
   ],
   "source": [
    "# run permutation test to simulate the test\n",
    "diff_in_acc = []\n",
    "for _ in range(100):\n",
    "    s = (\n",
    "        cleaned_recipes[[\"published_year\", 'total fat (PDV)', 'n_ingredients', \n",
    "                         'healthy', 'sugar (PDV)', 'calories (#)']]\n",
    "        .assign(old_new_shuffle=cleaned_recipes.old_new.sample(frac=1.0, replace=False)\n",
    "                .reset_index(drop=True))\n",
    "        .groupby('old_new_shuffle')\n",
    "        .apply(lambda x: pl_final2.score(x[[\"published_year\", 'total fat (PDV)', \n",
    "                                            'n_ingredients', 'healthy', 'sugar (PDV)']], \n",
    "                                         x['calories (#)'])).diff().iloc[-1]\n",
    "    )\n",
    "    \n",
    "    diff_in_acc.append(s)\n",
    "\n",
    "p_value = (diff_in_acc <= obs).mean()"
   ]
  },
  {
   "cell_type": "code",
   "execution_count": 25,
   "metadata": {},
   "outputs": [
    {
     "data": {
      "application/vnd.plotly.v1+json": {
       "config": {
        "plotlyServerURL": "https://plot.ly"
       },
       "data": [
        {
         "alignmentgroup": "True",
         "bingroup": "x",
         "histnorm": "probability",
         "hovertemplate": "variable=0<br>value=%{x}<br>probability=%{y}<extra></extra>",
         "legendgroup": "0",
         "marker": {
          "color": "#636efa",
          "pattern": {
           "shape": ""
          }
         },
         "name": "0",
         "nbinsx": 20,
         "offsetgroup": "0",
         "orientation": "v",
         "showlegend": true,
         "type": "histogram",
         "x": [
          0.014157199854623492,
          -0.06892890963275022,
          -0.013654430262926454,
          -0.0005710117768270573,
          0.02705878013920715,
          -0.019104777474210244,
          -0.019358416738562312,
          0.03623498820362858,
          -0.0016968542573921885,
          0.05271564559095687,
          0.043995700997654485,
          -0.03503338368214748,
          -0.0016049238415251077,
          0.030765688247509027,
          0.021129014455439243,
          0.02200994993129779,
          0.016979744880566416,
          0.027537242990209654,
          -0.006745575765910505,
          0.048559559289957366,
          0.026566628324318664,
          0.00767119392719362,
          0.05567088524142205,
          0.0474021539782743,
          0.00582998847260896,
          -0.05882921574698319,
          0.03432597450996988,
          -0.029997524012583265,
          -0.012662527147978775,
          0.019549921281368232,
          -0.015966045348941305,
          0.016846082060859358,
          0.03635347827811364,
          -0.061609320840128046,
          0.011600824238810148,
          -0.015693242116837536,
          -0.009765016439090557,
          0.02507701763957282,
          -0.03789757894084167,
          0.00704753578587447,
          0.005231082316338842,
          -0.0019383568928951211,
          -0.013066462435265658,
          0.03386709513066455,
          0.0006771636663717162,
          0.01172775356356437,
          -0.017946165604759257,
          -0.023476802795112106,
          -0.011436871492368383,
          0.006938796252490276,
          -0.018310478114685003,
          0.06154464118976799,
          0.00021370683726196216,
          0.04472396829478409,
          -0.04209875474305724,
          -0.0029837285654378265,
          0.009001599054320852,
          0.013854648375077327,
          -0.021880717335000965,
          -0.023129190231187313,
          0.010897286996840783,
          0.01727732148485306,
          0.0118674279026455,
          -0.03866348304093181,
          -0.012861985084231087,
          -0.00733469261841424,
          -0.008029304241423674,
          0.053694688899130205,
          -0.03913835955141076,
          0.0028179950349450644,
          -0.019692645241458417,
          0.015809665514275872,
          0.039938221114855565,
          0.003102795735366093,
          0.013978579231298416,
          -0.008714591592966281,
          0.03411171388632939,
          -0.010524188819480917,
          0.032193064377609826,
          -0.01926106165597763,
          0.011638734445779675,
          0.0014755060501714379,
          -0.01943493375358174,
          -0.03376084301308191,
          0.048477152405376644,
          -0.02044613579166099,
          -0.05082296374815265,
          0.014508757279130924,
          0.015471738496256271,
          0.05619572771005876,
          0.04916415438805766,
          0.005288904522631199,
          0.04630242857218381,
          -0.03742287431155278,
          -0.00713954370892822,
          0.01666743986468111,
          0.03992546119795937,
          0.00018923849606056198,
          -0.020249464048714305,
          -0.013117853898201304
         ],
         "xaxis": "x",
         "yaxis": "y"
        }
       ],
       "layout": {
        "annotations": [
         {
          "showarrow": false,
          "text": "<span style=\"color:red\">Observed Difference in Score</span>",
          "x": -0.075,
          "y": 0.17
         }
        ],
        "barmode": "relative",
        "legend": {
         "title": {
          "text": "variable"
         },
         "tracegroupgap": 0
        },
        "shapes": [
         {
          "line": {
           "color": "red"
          },
          "type": "line",
          "x0": -0.008995926778622154,
          "x1": -0.008995926778622154,
          "xref": "x",
          "y0": 0,
          "y1": 1,
          "yref": "y domain"
         }
        ],
        "template": {
         "data": {
          "bar": [
           {
            "error_x": {
             "color": "#2a3f5f"
            },
            "error_y": {
             "color": "#2a3f5f"
            },
            "marker": {
             "line": {
              "color": "#E5ECF6",
              "width": 0.5
             },
             "pattern": {
              "fillmode": "overlay",
              "size": 10,
              "solidity": 0.2
             }
            },
            "type": "bar"
           }
          ],
          "barpolar": [
           {
            "marker": {
             "line": {
              "color": "#E5ECF6",
              "width": 0.5
             },
             "pattern": {
              "fillmode": "overlay",
              "size": 10,
              "solidity": 0.2
             }
            },
            "type": "barpolar"
           }
          ],
          "carpet": [
           {
            "aaxis": {
             "endlinecolor": "#2a3f5f",
             "gridcolor": "white",
             "linecolor": "white",
             "minorgridcolor": "white",
             "startlinecolor": "#2a3f5f"
            },
            "baxis": {
             "endlinecolor": "#2a3f5f",
             "gridcolor": "white",
             "linecolor": "white",
             "minorgridcolor": "white",
             "startlinecolor": "#2a3f5f"
            },
            "type": "carpet"
           }
          ],
          "choropleth": [
           {
            "colorbar": {
             "outlinewidth": 0,
             "ticks": ""
            },
            "type": "choropleth"
           }
          ],
          "contour": [
           {
            "colorbar": {
             "outlinewidth": 0,
             "ticks": ""
            },
            "colorscale": [
             [
              0,
              "#0d0887"
             ],
             [
              0.1111111111111111,
              "#46039f"
             ],
             [
              0.2222222222222222,
              "#7201a8"
             ],
             [
              0.3333333333333333,
              "#9c179e"
             ],
             [
              0.4444444444444444,
              "#bd3786"
             ],
             [
              0.5555555555555556,
              "#d8576b"
             ],
             [
              0.6666666666666666,
              "#ed7953"
             ],
             [
              0.7777777777777778,
              "#fb9f3a"
             ],
             [
              0.8888888888888888,
              "#fdca26"
             ],
             [
              1,
              "#f0f921"
             ]
            ],
            "type": "contour"
           }
          ],
          "contourcarpet": [
           {
            "colorbar": {
             "outlinewidth": 0,
             "ticks": ""
            },
            "type": "contourcarpet"
           }
          ],
          "heatmap": [
           {
            "colorbar": {
             "outlinewidth": 0,
             "ticks": ""
            },
            "colorscale": [
             [
              0,
              "#0d0887"
             ],
             [
              0.1111111111111111,
              "#46039f"
             ],
             [
              0.2222222222222222,
              "#7201a8"
             ],
             [
              0.3333333333333333,
              "#9c179e"
             ],
             [
              0.4444444444444444,
              "#bd3786"
             ],
             [
              0.5555555555555556,
              "#d8576b"
             ],
             [
              0.6666666666666666,
              "#ed7953"
             ],
             [
              0.7777777777777778,
              "#fb9f3a"
             ],
             [
              0.8888888888888888,
              "#fdca26"
             ],
             [
              1,
              "#f0f921"
             ]
            ],
            "type": "heatmap"
           }
          ],
          "heatmapgl": [
           {
            "colorbar": {
             "outlinewidth": 0,
             "ticks": ""
            },
            "colorscale": [
             [
              0,
              "#0d0887"
             ],
             [
              0.1111111111111111,
              "#46039f"
             ],
             [
              0.2222222222222222,
              "#7201a8"
             ],
             [
              0.3333333333333333,
              "#9c179e"
             ],
             [
              0.4444444444444444,
              "#bd3786"
             ],
             [
              0.5555555555555556,
              "#d8576b"
             ],
             [
              0.6666666666666666,
              "#ed7953"
             ],
             [
              0.7777777777777778,
              "#fb9f3a"
             ],
             [
              0.8888888888888888,
              "#fdca26"
             ],
             [
              1,
              "#f0f921"
             ]
            ],
            "type": "heatmapgl"
           }
          ],
          "histogram": [
           {
            "marker": {
             "pattern": {
              "fillmode": "overlay",
              "size": 10,
              "solidity": 0.2
             }
            },
            "type": "histogram"
           }
          ],
          "histogram2d": [
           {
            "colorbar": {
             "outlinewidth": 0,
             "ticks": ""
            },
            "colorscale": [
             [
              0,
              "#0d0887"
             ],
             [
              0.1111111111111111,
              "#46039f"
             ],
             [
              0.2222222222222222,
              "#7201a8"
             ],
             [
              0.3333333333333333,
              "#9c179e"
             ],
             [
              0.4444444444444444,
              "#bd3786"
             ],
             [
              0.5555555555555556,
              "#d8576b"
             ],
             [
              0.6666666666666666,
              "#ed7953"
             ],
             [
              0.7777777777777778,
              "#fb9f3a"
             ],
             [
              0.8888888888888888,
              "#fdca26"
             ],
             [
              1,
              "#f0f921"
             ]
            ],
            "type": "histogram2d"
           }
          ],
          "histogram2dcontour": [
           {
            "colorbar": {
             "outlinewidth": 0,
             "ticks": ""
            },
            "colorscale": [
             [
              0,
              "#0d0887"
             ],
             [
              0.1111111111111111,
              "#46039f"
             ],
             [
              0.2222222222222222,
              "#7201a8"
             ],
             [
              0.3333333333333333,
              "#9c179e"
             ],
             [
              0.4444444444444444,
              "#bd3786"
             ],
             [
              0.5555555555555556,
              "#d8576b"
             ],
             [
              0.6666666666666666,
              "#ed7953"
             ],
             [
              0.7777777777777778,
              "#fb9f3a"
             ],
             [
              0.8888888888888888,
              "#fdca26"
             ],
             [
              1,
              "#f0f921"
             ]
            ],
            "type": "histogram2dcontour"
           }
          ],
          "mesh3d": [
           {
            "colorbar": {
             "outlinewidth": 0,
             "ticks": ""
            },
            "type": "mesh3d"
           }
          ],
          "parcoords": [
           {
            "line": {
             "colorbar": {
              "outlinewidth": 0,
              "ticks": ""
             }
            },
            "type": "parcoords"
           }
          ],
          "pie": [
           {
            "automargin": true,
            "type": "pie"
           }
          ],
          "scatter": [
           {
            "fillpattern": {
             "fillmode": "overlay",
             "size": 10,
             "solidity": 0.2
            },
            "type": "scatter"
           }
          ],
          "scatter3d": [
           {
            "line": {
             "colorbar": {
              "outlinewidth": 0,
              "ticks": ""
             }
            },
            "marker": {
             "colorbar": {
              "outlinewidth": 0,
              "ticks": ""
             }
            },
            "type": "scatter3d"
           }
          ],
          "scattercarpet": [
           {
            "marker": {
             "colorbar": {
              "outlinewidth": 0,
              "ticks": ""
             }
            },
            "type": "scattercarpet"
           }
          ],
          "scattergeo": [
           {
            "marker": {
             "colorbar": {
              "outlinewidth": 0,
              "ticks": ""
             }
            },
            "type": "scattergeo"
           }
          ],
          "scattergl": [
           {
            "marker": {
             "colorbar": {
              "outlinewidth": 0,
              "ticks": ""
             }
            },
            "type": "scattergl"
           }
          ],
          "scattermapbox": [
           {
            "marker": {
             "colorbar": {
              "outlinewidth": 0,
              "ticks": ""
             }
            },
            "type": "scattermapbox"
           }
          ],
          "scatterpolar": [
           {
            "marker": {
             "colorbar": {
              "outlinewidth": 0,
              "ticks": ""
             }
            },
            "type": "scatterpolar"
           }
          ],
          "scatterpolargl": [
           {
            "marker": {
             "colorbar": {
              "outlinewidth": 0,
              "ticks": ""
             }
            },
            "type": "scatterpolargl"
           }
          ],
          "scatterternary": [
           {
            "marker": {
             "colorbar": {
              "outlinewidth": 0,
              "ticks": ""
             }
            },
            "type": "scatterternary"
           }
          ],
          "surface": [
           {
            "colorbar": {
             "outlinewidth": 0,
             "ticks": ""
            },
            "colorscale": [
             [
              0,
              "#0d0887"
             ],
             [
              0.1111111111111111,
              "#46039f"
             ],
             [
              0.2222222222222222,
              "#7201a8"
             ],
             [
              0.3333333333333333,
              "#9c179e"
             ],
             [
              0.4444444444444444,
              "#bd3786"
             ],
             [
              0.5555555555555556,
              "#d8576b"
             ],
             [
              0.6666666666666666,
              "#ed7953"
             ],
             [
              0.7777777777777778,
              "#fb9f3a"
             ],
             [
              0.8888888888888888,
              "#fdca26"
             ],
             [
              1,
              "#f0f921"
             ]
            ],
            "type": "surface"
           }
          ],
          "table": [
           {
            "cells": {
             "fill": {
              "color": "#EBF0F8"
             },
             "line": {
              "color": "white"
             }
            },
            "header": {
             "fill": {
              "color": "#C8D4E3"
             },
             "line": {
              "color": "white"
             }
            },
            "type": "table"
           }
          ]
         },
         "layout": {
          "annotationdefaults": {
           "arrowcolor": "#2a3f5f",
           "arrowhead": 0,
           "arrowwidth": 1
          },
          "autotypenumbers": "strict",
          "coloraxis": {
           "colorbar": {
            "outlinewidth": 0,
            "ticks": ""
           }
          },
          "colorscale": {
           "diverging": [
            [
             0,
             "#8e0152"
            ],
            [
             0.1,
             "#c51b7d"
            ],
            [
             0.2,
             "#de77ae"
            ],
            [
             0.3,
             "#f1b6da"
            ],
            [
             0.4,
             "#fde0ef"
            ],
            [
             0.5,
             "#f7f7f7"
            ],
            [
             0.6,
             "#e6f5d0"
            ],
            [
             0.7,
             "#b8e186"
            ],
            [
             0.8,
             "#7fbc41"
            ],
            [
             0.9,
             "#4d9221"
            ],
            [
             1,
             "#276419"
            ]
           ],
           "sequential": [
            [
             0,
             "#0d0887"
            ],
            [
             0.1111111111111111,
             "#46039f"
            ],
            [
             0.2222222222222222,
             "#7201a8"
            ],
            [
             0.3333333333333333,
             "#9c179e"
            ],
            [
             0.4444444444444444,
             "#bd3786"
            ],
            [
             0.5555555555555556,
             "#d8576b"
            ],
            [
             0.6666666666666666,
             "#ed7953"
            ],
            [
             0.7777777777777778,
             "#fb9f3a"
            ],
            [
             0.8888888888888888,
             "#fdca26"
            ],
            [
             1,
             "#f0f921"
            ]
           ],
           "sequentialminus": [
            [
             0,
             "#0d0887"
            ],
            [
             0.1111111111111111,
             "#46039f"
            ],
            [
             0.2222222222222222,
             "#7201a8"
            ],
            [
             0.3333333333333333,
             "#9c179e"
            ],
            [
             0.4444444444444444,
             "#bd3786"
            ],
            [
             0.5555555555555556,
             "#d8576b"
            ],
            [
             0.6666666666666666,
             "#ed7953"
            ],
            [
             0.7777777777777778,
             "#fb9f3a"
            ],
            [
             0.8888888888888888,
             "#fdca26"
            ],
            [
             1,
             "#f0f921"
            ]
           ]
          },
          "colorway": [
           "#636efa",
           "#EF553B",
           "#00cc96",
           "#ab63fa",
           "#FFA15A",
           "#19d3f3",
           "#FF6692",
           "#B6E880",
           "#FF97FF",
           "#FECB52"
          ],
          "font": {
           "color": "#2a3f5f"
          },
          "geo": {
           "bgcolor": "white",
           "lakecolor": "white",
           "landcolor": "#E5ECF6",
           "showlakes": true,
           "showland": true,
           "subunitcolor": "white"
          },
          "hoverlabel": {
           "align": "left"
          },
          "hovermode": "closest",
          "mapbox": {
           "style": "light"
          },
          "paper_bgcolor": "white",
          "plot_bgcolor": "#E5ECF6",
          "polar": {
           "angularaxis": {
            "gridcolor": "white",
            "linecolor": "white",
            "ticks": ""
           },
           "bgcolor": "#E5ECF6",
           "radialaxis": {
            "gridcolor": "white",
            "linecolor": "white",
            "ticks": ""
           }
          },
          "scene": {
           "xaxis": {
            "backgroundcolor": "#E5ECF6",
            "gridcolor": "white",
            "gridwidth": 2,
            "linecolor": "white",
            "showbackground": true,
            "ticks": "",
            "zerolinecolor": "white"
           },
           "yaxis": {
            "backgroundcolor": "#E5ECF6",
            "gridcolor": "white",
            "gridwidth": 2,
            "linecolor": "white",
            "showbackground": true,
            "ticks": "",
            "zerolinecolor": "white"
           },
           "zaxis": {
            "backgroundcolor": "#E5ECF6",
            "gridcolor": "white",
            "gridwidth": 2,
            "linecolor": "white",
            "showbackground": true,
            "ticks": "",
            "zerolinecolor": "white"
           }
          },
          "shapedefaults": {
           "line": {
            "color": "#2a3f5f"
           }
          },
          "ternary": {
           "aaxis": {
            "gridcolor": "white",
            "linecolor": "white",
            "ticks": ""
           },
           "baxis": {
            "gridcolor": "white",
            "linecolor": "white",
            "ticks": ""
           },
           "bgcolor": "#E5ECF6",
           "caxis": {
            "gridcolor": "white",
            "linecolor": "white",
            "ticks": ""
           }
          },
          "title": {
           "x": 0.05
          },
          "xaxis": {
           "automargin": true,
           "gridcolor": "white",
           "linecolor": "white",
           "ticks": "",
           "title": {
            "standoff": 15
           },
           "zerolinecolor": "white",
           "zerolinewidth": 2
          },
          "yaxis": {
           "automargin": true,
           "gridcolor": "white",
           "linecolor": "white",
           "ticks": "",
           "title": {
            "standoff": 15
           },
           "zerolinecolor": "white",
           "zerolinewidth": 2
          }
         }
        },
        "title": {
         "text": "Difference in Score (Old - New)"
        },
        "xaxis": {
         "anchor": "y",
         "domain": [
          0,
          1
         ],
         "range": [
          -0.1,
          0.1
         ],
         "title": {
          "text": "value"
         }
        },
        "yaxis": {
         "anchor": "x",
         "domain": [
          0,
          1
         ],
         "title": {
          "text": "probability"
         }
        }
       }
      }
     },
     "metadata": {},
     "output_type": "display_data"
    }
   ],
   "source": [
    "# draw graph\n",
    "fig = pd.Series(diff_in_acc).plot(kind='hist', histnorm='probability', nbins=20,\n",
    "                            title='Difference in Score (Old - New)')\n",
    "fig.add_vline(x=obs, line_color='red')\n",
    "fig.update_layout(xaxis_range=[-0.1, 0.1])\n",
    "fig.add_annotation(text='<span style=\"color:red\">Observed Difference in Score</span>'\n",
    "                   , x=-0.075,showarrow=False, y=0.17)"
   ]
  },
  {
   "cell_type": "markdown",
   "metadata": {},
   "source": [
    "Since the p_value is greater than 0.05, we fail to reject the null. Thus we can answer that our model does not perform worse for old(before 2012) recipes than it does for new(after 2012) recipes based on the result of this one simulation."
   ]
  },
  {
   "cell_type": "markdown",
   "metadata": {},
   "source": []
  }
 ],
 "metadata": {
  "kernelspec": {
   "display_name": "dsc80",
   "language": "python",
   "name": "python3"
  },
  "language_info": {
   "codemirror_mode": {
    "name": "ipython",
    "version": 3
   },
   "file_extension": ".py",
   "mimetype": "text/x-python",
   "name": "python",
   "nbconvert_exporter": "python",
   "pygments_lexer": "ipython3",
   "version": "3.12.7"
  }
 },
 "nbformat": 4,
 "nbformat_minor": 2
}
